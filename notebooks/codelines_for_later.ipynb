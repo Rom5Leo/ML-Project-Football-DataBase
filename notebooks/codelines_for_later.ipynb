{
 "cells": [
  {
   "cell_type": "markdown",
   "id": "dfcaa9f7-eacd-4c18-92b8-ecb89fb9eb85",
   "metadata": {},
   "source": [
    "for Feature Engeneering"
   ]
  },
  {
   "cell_type": "code",
   "execution_count": null,
   "id": "654b0369-a04e-47fc-aaab-6dac1568eddf",
   "metadata": {},
   "outputs": [],
   "source": [
    "def process_date_column(df, date_col):\n",
    "    \"\"\"\n",
    "    Split datetime it into year, month, day, \n",
    "    and categorize the hour into time periods: 'Noon', 'After Noon', and 'Night'.\n",
    "    \n",
    "    Parameters:\n",
    "        df (pd.DataFrame): The DataFrame containing the date column.\n",
    "        date_col (str): The name of the date column.\n",
    "    \n",
    "    Returns:\n",
    "        pd.DataFrame: The DataFrame with new columns 'year', 'month', 'day', and 'time_category'.\n",
    "    \"\"\"\n",
    "    \n",
    "    # Extract year, month, and day\n",
    "    df['year'] = df[date_col].dt.year\n",
    "    df['month'] = df[date_col].dt.month\n",
    "    df['day'] = df[date_col].dt.day\n",
    "    \n",
    "    # Define a helper function to categorize the hour\n",
    "    def categorize_time(dt):\n",
    "        hour = dt.hour\n",
    "        if 10 <= hour < 14:\n",
    "            return 'Noon'\n",
    "        elif 14 <= hour < 18:\n",
    "            return 'After Noon'\n",
    "        else:\n",
    "            return 'Night'\n",
    "    \n",
    "    # Apply the categorization function to create the time category column\n",
    "    df['time_category'] = df[date_col].apply(categorize_time)\n",
    "    \n",
    "    return df\n",
    "\n",
    "# Example usage:\n",
    "# Assuming your DataFrame is named df and the date column is called 'date'\n",
    "df = process_date_column(df, 'date')\n",
    "print(df[['date', 'year', 'month', 'day', 'time_category']].head())\n"
   ]
  },
  {
   "cell_type": "code",
   "execution_count": null,
   "id": "bf3a1092-675d-4e72-8168-fb710eac4de7",
   "metadata": {},
   "outputs": [],
   "source": [
    "df['time_category'].value_counts()"
   ]
  }
 ],
 "metadata": {
  "kernelspec": {
   "display_name": "Python 3 (ipykernel)",
   "language": "python",
   "name": "python3"
  },
  "language_info": {
   "codemirror_mode": {
    "name": "ipython",
    "version": 3
   },
   "file_extension": ".py",
   "mimetype": "text/x-python",
   "name": "python",
   "nbconvert_exporter": "python",
   "pygments_lexer": "ipython3",
   "version": "3.8.10"
  }
 },
 "nbformat": 4,
 "nbformat_minor": 5
}
