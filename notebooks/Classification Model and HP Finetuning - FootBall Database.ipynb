{
 "cells": [
  {
   "cell_type": "markdown",
   "id": "16cf02f8-f11a-4c44-a10a-f3017feb26a6",
   "metadata": {},
   "source": [
    "# Classification Models and Hyperparameter Finetuning"
   ]
  },
  {
   "cell_type": "code",
   "execution_count": 39,
   "id": "4e7b8bb7-6957-4ad1-90a2-f3d178ddd684",
   "metadata": {},
   "outputs": [],
   "source": [
    "import matplotlib.pyplot as plt\n",
    "#%matplotlib ipympl\n",
    "import pandas as pd\n",
    "import numpy as np\n",
    "import seaborn as sns\n",
    "import sklearn.metrics as metrics \n",
    "from sklearn.datasets import make_classification\n",
    "#from xgboost import XGBClassifier\n",
    "#!pip install xgboost scikit-learn pandas numpy\n",
    "import xgboost as xgb\n",
    "import warnings\n",
    "warnings.filterwarnings(\"ignore\")\n",
    "import pickle"
   ]
  },
  {
   "cell_type": "code",
   "execution_count": 40,
   "id": "1b7ae36d-e260-4bce-909d-f43eae8f45bb",
   "metadata": {},
   "outputs": [],
   "source": [
    "def classificationMetrics(y, yhat):\n",
    "    prf1 = metrics.precision_recall_fscore_support(y,yhat)\n",
    "    res = {'Accuracy': metrics.accuracy_score(y,yhat),\n",
    "           'Precision':prf1[0][1],\n",
    "           'Recall': prf1[1][1],\n",
    "           'f1-score': prf1[2][1],\n",
    "           'Log-loss': metrics.log_loss(y,yhat),\n",
    "           'AUC': metrics.roc_auc_score(y,yhat)\n",
    "          }\n",
    "    return res"
   ]
  },
  {
   "cell_type": "markdown",
   "id": "d5059e61-2718-4848-9d4b-906002d9157e",
   "metadata": {},
   "source": [
    "## Data"
   ]
  },
  {
   "cell_type": "code",
   "execution_count": 68,
   "id": "53a60e41-7d38-4d1b-b91f-81fcda3ae23b",
   "metadata": {},
   "outputs": [],
   "source": [
    "# load df for modeling\n",
    "with open(\"../pickles/df_model.pkl\", \"rb\") as f:\n",
    "    df_model = pickle.load(f)  \n",
    "\n",
    "# load dev for modeling\n",
    "with open(\"../pickles/dev.pkl\", \"rb\") as f:\n",
    "    dev = pickle.load(f)  \n",
    "\n",
    "# load test for modeling\n",
    "with open(\"../pickles/test.pkl\", \"rb\") as f:\n",
    "    test = pickle.load(f)  \n",
    "\n",
    "# load train for modeling\n",
    "with open(\"../pickles/train.pkl\", \"rb\") as f:\n",
    "    train = pickle.load(f)  "
   ]
  },
  {
   "cell_type": "code",
   "execution_count": 69,
   "id": "f9d2c165-7eda-4c3c-bac7-bb4b7451469f",
   "metadata": {},
   "outputs": [
    {
     "data": {
      "text/html": [
       "<div>\n",
       "<style scoped>\n",
       "    .dataframe tbody tr th:only-of-type {\n",
       "        vertical-align: middle;\n",
       "    }\n",
       "\n",
       "    .dataframe tbody tr th {\n",
       "        vertical-align: top;\n",
       "    }\n",
       "\n",
       "    .dataframe thead th {\n",
       "        text-align: right;\n",
       "    }\n",
       "</style>\n",
       "<table border=\"1\" class=\"dataframe\">\n",
       "  <thead>\n",
       "    <tr style=\"text-align: right;\">\n",
       "      <th></th>\n",
       "      <th>home_Goals</th>\n",
       "      <th>away_Goals</th>\n",
       "      <th>home_GoalsHalfTime</th>\n",
       "      <th>home_xGoals</th>\n",
       "      <th>home_shots</th>\n",
       "      <th>home_ppda</th>\n",
       "      <th>home_corners</th>\n",
       "      <th>home_total_assists</th>\n",
       "      <th>away_xGoals</th>\n",
       "      <th>away_ppda</th>\n",
       "      <th>away_total_assists</th>\n",
       "      <th>away_total_red_cards</th>\n",
       "      <th>home_shotsOnTarget_cat</th>\n",
       "      <th>away_shotsOnTarget_cat</th>\n",
       "      <th>home_total_assists_cat</th>\n",
       "      <th>away_total_assists_cat</th>\n",
       "      <th>home_Goals_cat</th>\n",
       "      <th>away_Goals_cat</th>\n",
       "      <th>gameresult</th>\n",
       "    </tr>\n",
       "  </thead>\n",
       "  <tbody>\n",
       "    <tr>\n",
       "      <th>5437</th>\n",
       "      <td>2</td>\n",
       "      <td>2</td>\n",
       "      <td>2</td>\n",
       "      <td>1.367870</td>\n",
       "      <td>9.0</td>\n",
       "      <td>31.6000</td>\n",
       "      <td>1.0</td>\n",
       "      <td>2</td>\n",
       "      <td>2.655380</td>\n",
       "      <td>7.5000</td>\n",
       "      <td>2</td>\n",
       "      <td>0</td>\n",
       "      <td>3</td>\n",
       "      <td>6</td>\n",
       "      <td>2</td>\n",
       "      <td>2</td>\n",
       "      <td>2</td>\n",
       "      <td>2</td>\n",
       "      <td>1</td>\n",
       "    </tr>\n",
       "    <tr>\n",
       "      <th>5438</th>\n",
       "      <td>3</td>\n",
       "      <td>3</td>\n",
       "      <td>1</td>\n",
       "      <td>1.396890</td>\n",
       "      <td>14.0</td>\n",
       "      <td>5.7429</td>\n",
       "      <td>1.0</td>\n",
       "      <td>0</td>\n",
       "      <td>1.317510</td>\n",
       "      <td>4.7826</td>\n",
       "      <td>1</td>\n",
       "      <td>0</td>\n",
       "      <td>4</td>\n",
       "      <td>4</td>\n",
       "      <td>0</td>\n",
       "      <td>1</td>\n",
       "      <td>3</td>\n",
       "      <td>3</td>\n",
       "      <td>1</td>\n",
       "    </tr>\n",
       "    <tr>\n",
       "      <th>5439</th>\n",
       "      <td>0</td>\n",
       "      <td>3</td>\n",
       "      <td>0</td>\n",
       "      <td>0.813737</td>\n",
       "      <td>9.0</td>\n",
       "      <td>7.0000</td>\n",
       "      <td>5.0</td>\n",
       "      <td>0</td>\n",
       "      <td>1.238690</td>\n",
       "      <td>21.2143</td>\n",
       "      <td>2</td>\n",
       "      <td>0</td>\n",
       "      <td>2</td>\n",
       "      <td>7</td>\n",
       "      <td>0</td>\n",
       "      <td>2</td>\n",
       "      <td>0</td>\n",
       "      <td>3</td>\n",
       "      <td>0</td>\n",
       "    </tr>\n",
       "    <tr>\n",
       "      <th>5440</th>\n",
       "      <td>0</td>\n",
       "      <td>2</td>\n",
       "      <td>0</td>\n",
       "      <td>0.632940</td>\n",
       "      <td>6.0</td>\n",
       "      <td>16.0625</td>\n",
       "      <td>4.0</td>\n",
       "      <td>0</td>\n",
       "      <td>1.495320</td>\n",
       "      <td>10.7500</td>\n",
       "      <td>0</td>\n",
       "      <td>0</td>\n",
       "      <td>3</td>\n",
       "      <td>2</td>\n",
       "      <td>0</td>\n",
       "      <td>0</td>\n",
       "      <td>0</td>\n",
       "      <td>2</td>\n",
       "      <td>0</td>\n",
       "    </tr>\n",
       "    <tr>\n",
       "      <th>5441</th>\n",
       "      <td>0</td>\n",
       "      <td>0</td>\n",
       "      <td>0</td>\n",
       "      <td>1.544680</td>\n",
       "      <td>14.0</td>\n",
       "      <td>3.6087</td>\n",
       "      <td>8.0</td>\n",
       "      <td>0</td>\n",
       "      <td>0.057137</td>\n",
       "      <td>21.0556</td>\n",
       "      <td>0</td>\n",
       "      <td>0</td>\n",
       "      <td>3</td>\n",
       "      <td>1</td>\n",
       "      <td>0</td>\n",
       "      <td>0</td>\n",
       "      <td>0</td>\n",
       "      <td>0</td>\n",
       "      <td>1</td>\n",
       "    </tr>\n",
       "    <tr>\n",
       "      <th>...</th>\n",
       "      <td>...</td>\n",
       "      <td>...</td>\n",
       "      <td>...</td>\n",
       "      <td>...</td>\n",
       "      <td>...</td>\n",
       "      <td>...</td>\n",
       "      <td>...</td>\n",
       "      <td>...</td>\n",
       "      <td>...</td>\n",
       "      <td>...</td>\n",
       "      <td>...</td>\n",
       "      <td>...</td>\n",
       "      <td>...</td>\n",
       "      <td>...</td>\n",
       "      <td>...</td>\n",
       "      <td>...</td>\n",
       "      <td>...</td>\n",
       "      <td>...</td>\n",
       "      <td>...</td>\n",
       "    </tr>\n",
       "    <tr>\n",
       "      <th>12675</th>\n",
       "      <td>1</td>\n",
       "      <td>2</td>\n",
       "      <td>1</td>\n",
       "      <td>1.411190</td>\n",
       "      <td>15.0</td>\n",
       "      <td>12.3684</td>\n",
       "      <td>9.0</td>\n",
       "      <td>1</td>\n",
       "      <td>1.707510</td>\n",
       "      <td>8.3529</td>\n",
       "      <td>1</td>\n",
       "      <td>0</td>\n",
       "      <td>5</td>\n",
       "      <td>5</td>\n",
       "      <td>1</td>\n",
       "      <td>1</td>\n",
       "      <td>1</td>\n",
       "      <td>2</td>\n",
       "      <td>0</td>\n",
       "    </tr>\n",
       "    <tr>\n",
       "      <th>12676</th>\n",
       "      <td>1</td>\n",
       "      <td>2</td>\n",
       "      <td>1</td>\n",
       "      <td>1.198190</td>\n",
       "      <td>10.0</td>\n",
       "      <td>16.2632</td>\n",
       "      <td>5.0</td>\n",
       "      <td>1</td>\n",
       "      <td>1.238050</td>\n",
       "      <td>27.0000</td>\n",
       "      <td>1</td>\n",
       "      <td>0</td>\n",
       "      <td>3</td>\n",
       "      <td>5</td>\n",
       "      <td>1</td>\n",
       "      <td>1</td>\n",
       "      <td>1</td>\n",
       "      <td>2</td>\n",
       "      <td>0</td>\n",
       "    </tr>\n",
       "    <tr>\n",
       "      <th>12677</th>\n",
       "      <td>2</td>\n",
       "      <td>0</td>\n",
       "      <td>1</td>\n",
       "      <td>1.332690</td>\n",
       "      <td>12.0</td>\n",
       "      <td>8.2857</td>\n",
       "      <td>4.0</td>\n",
       "      <td>1</td>\n",
       "      <td>0.357583</td>\n",
       "      <td>39.7273</td>\n",
       "      <td>0</td>\n",
       "      <td>0</td>\n",
       "      <td>6</td>\n",
       "      <td>2</td>\n",
       "      <td>1</td>\n",
       "      <td>0</td>\n",
       "      <td>2</td>\n",
       "      <td>0</td>\n",
       "      <td>2</td>\n",
       "    </tr>\n",
       "    <tr>\n",
       "      <th>12678</th>\n",
       "      <td>0</td>\n",
       "      <td>1</td>\n",
       "      <td>0</td>\n",
       "      <td>1.460500</td>\n",
       "      <td>19.0</td>\n",
       "      <td>7.5600</td>\n",
       "      <td>9.0</td>\n",
       "      <td>0</td>\n",
       "      <td>1.380290</td>\n",
       "      <td>14.7200</td>\n",
       "      <td>1</td>\n",
       "      <td>0</td>\n",
       "      <td>5</td>\n",
       "      <td>2</td>\n",
       "      <td>0</td>\n",
       "      <td>1</td>\n",
       "      <td>0</td>\n",
       "      <td>1</td>\n",
       "      <td>0</td>\n",
       "    </tr>\n",
       "    <tr>\n",
       "      <th>12679</th>\n",
       "      <td>1</td>\n",
       "      <td>1</td>\n",
       "      <td>1</td>\n",
       "      <td>0.323960</td>\n",
       "      <td>6.0</td>\n",
       "      <td>15.1000</td>\n",
       "      <td>2.0</td>\n",
       "      <td>0</td>\n",
       "      <td>0.521913</td>\n",
       "      <td>15.9524</td>\n",
       "      <td>1</td>\n",
       "      <td>0</td>\n",
       "      <td>2</td>\n",
       "      <td>1</td>\n",
       "      <td>0</td>\n",
       "      <td>1</td>\n",
       "      <td>1</td>\n",
       "      <td>1</td>\n",
       "      <td>1</td>\n",
       "    </tr>\n",
       "  </tbody>\n",
       "</table>\n",
       "<p>12680 rows × 19 columns</p>\n",
       "</div>"
      ],
      "text/plain": [
       "       home_Goals  away_Goals  home_GoalsHalfTime  home_xGoals  home_shots  \\\n",
       "5437            2           2                   2     1.367870         9.0   \n",
       "5438            3           3                   1     1.396890        14.0   \n",
       "5439            0           3                   0     0.813737         9.0   \n",
       "5440            0           2                   0     0.632940         6.0   \n",
       "5441            0           0                   0     1.544680        14.0   \n",
       "...           ...         ...                 ...          ...         ...   \n",
       "12675           1           2                   1     1.411190        15.0   \n",
       "12676           1           2                   1     1.198190        10.0   \n",
       "12677           2           0                   1     1.332690        12.0   \n",
       "12678           0           1                   0     1.460500        19.0   \n",
       "12679           1           1                   1     0.323960         6.0   \n",
       "\n",
       "       home_ppda  home_corners  home_total_assists  away_xGoals  away_ppda  \\\n",
       "5437     31.6000           1.0                   2     2.655380     7.5000   \n",
       "5438      5.7429           1.0                   0     1.317510     4.7826   \n",
       "5439      7.0000           5.0                   0     1.238690    21.2143   \n",
       "5440     16.0625           4.0                   0     1.495320    10.7500   \n",
       "5441      3.6087           8.0                   0     0.057137    21.0556   \n",
       "...          ...           ...                 ...          ...        ...   \n",
       "12675    12.3684           9.0                   1     1.707510     8.3529   \n",
       "12676    16.2632           5.0                   1     1.238050    27.0000   \n",
       "12677     8.2857           4.0                   1     0.357583    39.7273   \n",
       "12678     7.5600           9.0                   0     1.380290    14.7200   \n",
       "12679    15.1000           2.0                   0     0.521913    15.9524   \n",
       "\n",
       "       away_total_assists  away_total_red_cards home_shotsOnTarget_cat  \\\n",
       "5437                    2                     0                      3   \n",
       "5438                    1                     0                      4   \n",
       "5439                    2                     0                      2   \n",
       "5440                    0                     0                      3   \n",
       "5441                    0                     0                      3   \n",
       "...                   ...                   ...                    ...   \n",
       "12675                   1                     0                      5   \n",
       "12676                   1                     0                      3   \n",
       "12677                   0                     0                      6   \n",
       "12678                   1                     0                      5   \n",
       "12679                   1                     0                      2   \n",
       "\n",
       "      away_shotsOnTarget_cat home_total_assists_cat away_total_assists_cat  \\\n",
       "5437                       6                      2                      2   \n",
       "5438                       4                      0                      1   \n",
       "5439                       7                      0                      2   \n",
       "5440                       2                      0                      0   \n",
       "5441                       1                      0                      0   \n",
       "...                      ...                    ...                    ...   \n",
       "12675                      5                      1                      1   \n",
       "12676                      5                      1                      1   \n",
       "12677                      2                      1                      0   \n",
       "12678                      2                      0                      1   \n",
       "12679                      1                      0                      1   \n",
       "\n",
       "      home_Goals_cat away_Goals_cat  gameresult  \n",
       "5437               2              2           1  \n",
       "5438               3              3           1  \n",
       "5439               0              3           0  \n",
       "5440               0              2           0  \n",
       "5441               0              0           1  \n",
       "...              ...            ...         ...  \n",
       "12675              1              2           0  \n",
       "12676              1              2           0  \n",
       "12677              2              0           2  \n",
       "12678              0              1           0  \n",
       "12679              1              1           1  \n",
       "\n",
       "[12680 rows x 19 columns]"
      ]
     },
     "execution_count": 69,
     "metadata": {},
     "output_type": "execute_result"
    }
   ],
   "source": [
    "df_model"
   ]
  },
  {
   "cell_type": "code",
   "execution_count": 70,
   "id": "06fc1e85-af4c-496d-8017-3de212be04ce",
   "metadata": {},
   "outputs": [
    {
     "data": {
      "text/plain": [
       "(12680, 19)"
      ]
     },
     "execution_count": 70,
     "metadata": {},
     "output_type": "execute_result"
    }
   ],
   "source": [
    "df_model.shape"
   ]
  },
  {
   "cell_type": "code",
   "execution_count": 71,
   "id": "33451cb3-3075-4c50-918a-0f4f5f79c4a5",
   "metadata": {},
   "outputs": [
    {
     "data": {
      "text/plain": [
       "(2536, 20)"
      ]
     },
     "execution_count": 71,
     "metadata": {},
     "output_type": "execute_result"
    }
   ],
   "source": [
    "dev.shape"
   ]
  },
  {
   "cell_type": "markdown",
   "id": "55459d03-9287-4f3d-9c66-19d93227ed4b",
   "metadata": {},
   "source": [
    "Visual of the data created on stage 5 with RandomOverSample techniqe"
   ]
  },
  {
   "cell_type": "code",
   "execution_count": 72,
   "id": "3794cc1f-dc6c-47ff-b2c0-d5b5eea5662c",
   "metadata": {},
   "outputs": [
    {
     "data": {
      "text/plain": [
       "[Text(0.5, 1.0, 'Data after Over Sampling')]"
      ]
     },
     "execution_count": 72,
     "metadata": {},
     "output_type": "execute_result"
    },
    {
     "data": {
      "image/png": "[encoded data removed]",
      "text/plain": [
       "<Figure size 1000x500 with 1 Axes>"
      ]
     },
     "metadata": {},
     "output_type": "display_data"
    }
   ],
   "source": [
    "fig, ax = plt.subplots(figsize=(10,5))\n",
    "sns.countplot(x=df_model['gameresult'].dropna(),data=df_model, palette=\"Set2\").set(title='Data after Over Sampling')"
   ]
  },
  {
   "cell_type": "code",
   "execution_count": 73,
   "id": "8078fbda-c2e6-4097-a358-eb145825300e",
   "metadata": {},
   "outputs": [
    {
     "data": {
      "text/plain": [
       "2    5654\n",
       "0    3854\n",
       "1    3172\n",
       "Name: gameresult, dtype: int64"
      ]
     },
     "execution_count": 73,
     "metadata": {},
     "output_type": "execute_result"
    }
   ],
   "source": [
    "df_model['gameresult'].value_counts()"
   ]
  },
  {
   "cell_type": "code",
   "execution_count": 74,
   "id": "46a01864-dee7-4504-9e61-421c5a3fc0f6",
   "metadata": {},
   "outputs": [],
   "source": [
    "X_train = train.loc[:,train.columns != 'gameresult']\n",
    "X_dev = dev.loc[:,dev.columns != 'gameresult']\n",
    "y_train = train['gameresult']\n",
    "y_dev = dev['gameresult']"
   ]
  },
  {
   "cell_type": "code",
   "execution_count": 85,
   "id": "897050ab-3cc6-4bdf-a9b4-408a1688a5c9",
   "metadata": {},
   "outputs": [
    {
     "data": {
      "text/plain": [
       "10682    0\n",
       "10794    1\n",
       "2455     2\n",
       "6463     0\n",
       "168      1\n",
       "        ..\n",
       "3475     1\n",
       "1487     1\n",
       "4070     0\n",
       "4404     2\n",
       "9411     2\n",
       "Name: gameresult, Length: 2536, dtype: int64"
      ]
     },
     "execution_count": 85,
     "metadata": {},
     "output_type": "execute_result"
    }
   ],
   "source": [
    "y_dev"
   ]
  },
  {
   "cell_type": "markdown",
   "id": "68f419da-3169-41a2-a602-f81a383780b9",
   "metadata": {},
   "source": [
    "## Supervised Models\n"
   ]
  },
  {
   "cell_type": "code",
   "execution_count": 75,
   "id": "8744c506-775d-406b-aded-daf63f1b1532",
   "metadata": {},
   "outputs": [],
   "source": [
    "from sklearn.linear_model import LogisticRegression\n",
    "from sklearn.tree import DecisionTreeClassifier\n",
    "from sklearn.ensemble import RandomForestClassifier, AdaBoostClassifier, GradientBoostingClassifier\n",
    "from xgboost import XGBClassifier\n",
    "from sklearn.svm import SVC\n",
    "from sklearn.ensemble import ExtraTreesClassifier"
   ]
  },
  {
   "cell_type": "code",
   "execution_count": 76,
   "id": "eb966027-c774-480a-a58b-be6b4f8aa8da",
   "metadata": {},
   "outputs": [],
   "source": [
    "models_list = pd.DataFrame()"
   ]
  },
  {
   "cell_type": "code",
   "execution_count": 82,
   "id": "7240570e-8314-470e-9702-7a7682463cfb",
   "metadata": {},
   "outputs": [
    {
     "data": {
      "text/plain": [
       "home_Goals                  int64\n",
       "away_Goals                  int64\n",
       "home_GoalsHalfTime          int64\n",
       "home_xGoals               float64\n",
       "home_shots                float64\n",
       "home_ppda                 float64\n",
       "home_corners              float64\n",
       "home_total_assists          int64\n",
       "away_xGoals               float64\n",
       "away_ppda                 float64\n",
       "away_total_assists          int64\n",
       "away_total_red_cards        int64\n",
       "home_shotsOnTarget_cat    float64\n",
       "away_shotsOnTarget_cat    float64\n",
       "home_total_assists_cat    float64\n",
       "away_total_assists_cat    float64\n",
       "home_Goals_cat            float64\n",
       "away_Goals_cat            float64\n",
       "split                        int8\n",
       "dtype: object"
      ]
     },
     "execution_count": 82,
     "metadata": {},
     "output_type": "execute_result"
    }
   ],
   "source": [
    "X_dev['split'] = X_dev['split'].astype('category').cat.codes\n",
    "\n",
    "X_dev.dtypes"
   ]
  },
  {
   "cell_type": "markdown",
   "id": "dfdb9180-7db6-4f3d-8ad2-0b593f61abd2",
   "metadata": {},
   "source": [
    "## Linear Regression"
   ]
  },
  {
   "cell_type": "code",
   "execution_count": 78,
   "id": "c07a38f7-873c-4c26-a104-ea114e30bcca",
   "metadata": {},
   "outputs": [
    {
     "data": {
      "text/plain": [
       "Series([], dtype: float64)"
      ]
     },
     "execution_count": 78,
     "metadata": {},
     "output_type": "execute_result"
    }
   ],
   "source": [
    "X_train.select_dtypes(include=['object']).nunique()\n"
   ]
  },
  {
   "cell_type": "code",
   "execution_count": 79,
   "id": "0ab46c34-2bf5-432d-a176-8f20d6143e80",
   "metadata": {},
   "outputs": [
    {
     "data": {
      "text/plain": [
       "home_Goals                  int64\n",
       "away_Goals                  int64\n",
       "home_GoalsHalfTime          int64\n",
       "home_total_assists          int64\n",
       "away_total_red_cards        int64\n",
       "away_total_assists          int64\n",
       "home_Goals_cat            float64\n",
       "away_total_assists_cat    float64\n",
       "home_total_assists_cat    float64\n",
       "away_shotsOnTarget_cat    float64\n",
       "home_shotsOnTarget_cat    float64\n",
       "away_ppda                 float64\n",
       "away_xGoals               float64\n",
       "home_corners              float64\n",
       "home_ppda                 float64\n",
       "home_shots                float64\n",
       "home_xGoals               float64\n",
       "away_Goals_cat            float64\n",
       "split                     float64\n",
       "dtype: object"
      ]
     },
     "execution_count": 79,
     "metadata": {},
     "output_type": "execute_result"
    }
   ],
   "source": [
    "X_train.dtypes.sort_values()\n"
   ]
  },
  {
   "cell_type": "code",
   "execution_count": 80,
   "id": "484e9da4-41d2-4967-8e5f-fad439abcaf0",
   "metadata": {},
   "outputs": [],
   "source": [
    "# X_train = X_train.drop(columns=['split'])  # example\n",
    "# X_dev = X_dev.drop(columns=['split'])\n"
   ]
  },
  {
   "cell_type": "code",
   "execution_count": 83,
   "id": "2b7169c1-c806-4ef8-988d-98a5258bb1e9",
   "metadata": {},
   "outputs": [],
   "source": [
    "# Option 1: Convert entire DataFrame (safe for encoded data)\n",
    "X_dev = X_dev.apply(pd.to_numeric, errors='raise')\n",
    "X_train = X_train.apply(pd.to_numeric, errors='raise')\n"
   ]
  },
  {
   "cell_type": "code",
   "execution_count": 86,
   "id": "9db02198-b461-43f0-9d1b-2845e40c0aa8",
   "metadata": {},
   "outputs": [],
   "source": [
    "mod1 = LogisticRegression(random_state=1, max_iter=1000)\n",
    "mod1.fit(X_train,y_train)\n",
    "pred1 = mod1.predict(X_dev)\n",
    "\n"
   ]
  },
  {
   "cell_type": "code",
   "execution_count": 89,
   "id": "759a51c7-9a47-448e-a284-d6bc5c1791c6",
   "metadata": {},
   "outputs": [
    {
     "name": "stdout",
     "output_type": "stream",
     "text": [
      "y true=  10682    0\n",
      "10794    1\n",
      "2455     2\n",
      "6463     0\n",
      "168      1\n",
      "        ..\n",
      "3475     1\n",
      "1487     1\n",
      "4070     0\n",
      "4404     2\n",
      "9411     2\n",
      "Name: gameresult, Length: 2536, dtype: int64\n"
     ]
    }
   ],
   "source": [
    "print(\"y true= \",y_dev)"
   ]
  },
  {
   "cell_type": "code",
   "execution_count": 90,
   "id": "c7cc4b2e-0057-4e96-b449-d1fac1f94e83",
   "metadata": {},
   "outputs": [
    {
     "name": "stdout",
     "output_type": "stream",
     "text": [
      "y pred=  [0 1 2 ... 0 2 2]\n"
     ]
    }
   ],
   "source": [
    "print(\"y pred= \", pred1)"
   ]
  },
  {
   "cell_type": "code",
   "execution_count": 92,
   "id": "64ce7750-8c00-4f24-aa24-63093de2d744",
   "metadata": {},
   "outputs": [
    {
     "name": "stdout",
     "output_type": "stream",
     "text": [
      "Classes in y_dev: [0 1 2]\n",
      "Classes predicted: [0 1 2]\n",
      "Proba shape: (2536,)\n"
     ]
    }
   ],
   "source": [
    "print(\"Classes in y_dev:\", np.unique(y_dev))\n",
    "print(\"Classes predicted:\", np.unique(pred1))\n",
    "print(\"Proba shape:\", pred1.shape)\n"
   ]
  },
  {
   "cell_type": "code",
   "execution_count": null,
   "id": "6766fc24-ad5f-4d61-a97c-c11aa2ca218b",
   "metadata": {},
   "outputs": [],
   "source": []
  }
 ],
 "metadata": {
  "kernelspec": {
   "display_name": "Python 3 (ipykernel)",
   "language": "python",
   "name": "python3"
  },
  "language_info": {
   "codemirror_mode": {
    "name": "ipython",
    "version": 3
   },
   "file_extension": ".py",
   "mimetype": "text/x-python",
   "name": "python",
   "nbconvert_exporter": "python",
   "pygments_lexer": "ipython3",
   "version": "3.8.10"
  }
 },
 "nbformat": 4,
 "nbformat_minor": 5
}
