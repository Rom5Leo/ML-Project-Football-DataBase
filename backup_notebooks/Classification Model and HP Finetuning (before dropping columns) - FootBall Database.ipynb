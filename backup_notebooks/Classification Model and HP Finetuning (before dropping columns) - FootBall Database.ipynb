{
 "cells": [
  {
   "cell_type": "markdown",
   "id": "16cf02f8-f11a-4c44-a10a-f3017feb26a6",
   "metadata": {},
   "source": [
    "# Classification Models and Hyperparameter Finetuning"
   ]
  },
  {
   "cell_type": "code",
   "execution_count": 119,
   "id": "4e7b8bb7-6957-4ad1-90a2-f3d178ddd684",
   "metadata": {},
   "outputs": [],
   "source": [
    "import matplotlib.pyplot as plt\n",
    "#%matplotlib ipympl\n",
    "import pandas as pd\n",
    "import numpy as np\n",
    "import seaborn as sns\n",
    "import sklearn.metrics as metrics \n",
    "from sklearn.datasets import make_classification\n",
    "#from xgboost import XGBClassifier\n",
    "#!pip install xgboost scikit-learn pandas numpy\n",
    "import xgboost as xgb\n",
    "import warnings\n",
    "warnings.filterwarnings(\"ignore\")\n",
    "import pickle"
   ]
  },
  {
   "cell_type": "code",
   "execution_count": 120,
   "id": "1b7ae36d-e260-4bce-909d-f43eae8f45bb",
   "metadata": {},
   "outputs": [],
   "source": [
    "## V1\n",
    "# def classificationMetrics(y, yhat):\n",
    "#     prf1 = metrics.precision_recall_fscore_support(y,yhat)\n",
    "#     res = {'Accuracy': metrics.accuracy_score(y,yhat),\n",
    "#            'Precision':prf1[0][1],\n",
    "#            'Recall': prf1[1][1],\n",
    "#            'f1-score': prf1[2][1],\n",
    "#            'Log-loss': metrics.log_loss(y,yhat),\n",
    "#            'AUC': metrics.roc_auc_score(y,yhat)\n",
    "#           }\n",
    "#     return res\n",
    "\n",
    "## V2\n",
    "\n",
    "def classificationMetrics(y, yhat, y_proba=None):\n",
    "    prf1 = metrics.precision_recall_fscore_support(y, yhat, average='weighted', zero_division=0)\n",
    "    \n",
    "    res = {\n",
    "        'Accuracy': metrics.accuracy_score(y, yhat),\n",
    "        'Precision': prf1[0],\n",
    "        'Recall': prf1[1],\n",
    "        'f1-score': prf1[2]\n",
    "    }\n",
    "\n",
    "    # Add log-loss & AUC only if probabilities are available\n",
    "    if y_proba is not None:\n",
    "        try:\n",
    "            res['Log-loss'] = metrics.log_loss(y, y_proba, labels=np.unique(y))\n",
    "        except:\n",
    "            res['Log-loss'] = np.nan\n",
    "        try:\n",
    "            res['AUC'] = metrics.roc_auc_score(y, y_proba, multi_class='ovr')\n",
    "        except:\n",
    "            res['AUC'] = np.nan\n",
    "\n",
    "    return res"
   ]
  },
  {
   "cell_type": "markdown",
   "id": "d5059e61-2718-4848-9d4b-906002d9157e",
   "metadata": {},
   "source": [
    "## Data"
   ]
  },
  {
   "cell_type": "code",
   "execution_count": 121,
   "id": "53a60e41-7d38-4d1b-b91f-81fcda3ae23b",
   "metadata": {},
   "outputs": [],
   "source": [
    "# load df for modeling\n",
    "with open(\"../pickles/df_model.pkl\", \"rb\") as f:\n",
    "    df_model = pickle.load(f)  \n",
    "\n",
    "# load dev for modeling\n",
    "with open(\"../pickles/dev.pkl\", \"rb\") as f:\n",
    "    dev = pickle.load(f)  \n",
    "\n",
    "# load test for modeling\n",
    "with open(\"../pickles/test.pkl\", \"rb\") as f:\n",
    "    test = pickle.load(f)  \n",
    "\n",
    "# load train for modeling\n",
    "with open(\"../pickles/train.pkl\", \"rb\") as f:\n",
    "    train = pickle.load(f)  "
   ]
  },
  {
   "cell_type": "code",
   "execution_count": 122,
   "id": "f9d2c165-7eda-4c3c-bac7-bb4b7451469f",
   "metadata": {},
   "outputs": [
    {
     "data": {
      "text/html": [
       "<div>\n",
       "<style scoped>\n",
       "    .dataframe tbody tr th:only-of-type {\n",
       "        vertical-align: middle;\n",
       "    }\n",
       "\n",
       "    .dataframe tbody tr th {\n",
       "        vertical-align: top;\n",
       "    }\n",
       "\n",
       "    .dataframe thead th {\n",
       "        text-align: right;\n",
       "    }\n",
       "</style>\n",
       "<table border=\"1\" class=\"dataframe\">\n",
       "  <thead>\n",
       "    <tr style=\"text-align: right;\">\n",
       "      <th></th>\n",
       "      <th>home_Goals</th>\n",
       "      <th>away_Goals</th>\n",
       "      <th>home_GoalsHalfTime</th>\n",
       "      <th>home_xGoals</th>\n",
       "      <th>home_shots</th>\n",
       "      <th>home_ppda</th>\n",
       "      <th>home_corners</th>\n",
       "      <th>home_total_assists</th>\n",
       "      <th>away_xGoals</th>\n",
       "      <th>away_ppda</th>\n",
       "      <th>away_total_assists</th>\n",
       "      <th>away_total_red_cards</th>\n",
       "      <th>home_shotsOnTarget_cat</th>\n",
       "      <th>away_shotsOnTarget_cat</th>\n",
       "      <th>home_total_assists_cat</th>\n",
       "      <th>away_total_assists_cat</th>\n",
       "      <th>home_Goals_cat</th>\n",
       "      <th>away_Goals_cat</th>\n",
       "      <th>gameresult</th>\n",
       "    </tr>\n",
       "  </thead>\n",
       "  <tbody>\n",
       "    <tr>\n",
       "      <th>5437</th>\n",
       "      <td>2</td>\n",
       "      <td>2</td>\n",
       "      <td>2</td>\n",
       "      <td>1.367870</td>\n",
       "      <td>9.0</td>\n",
       "      <td>31.6000</td>\n",
       "      <td>1.0</td>\n",
       "      <td>2</td>\n",
       "      <td>2.655380</td>\n",
       "      <td>7.5000</td>\n",
       "      <td>2</td>\n",
       "      <td>0</td>\n",
       "      <td>3</td>\n",
       "      <td>6</td>\n",
       "      <td>2</td>\n",
       "      <td>2</td>\n",
       "      <td>2</td>\n",
       "      <td>2</td>\n",
       "      <td>1</td>\n",
       "    </tr>\n",
       "    <tr>\n",
       "      <th>5438</th>\n",
       "      <td>3</td>\n",
       "      <td>3</td>\n",
       "      <td>1</td>\n",
       "      <td>1.396890</td>\n",
       "      <td>14.0</td>\n",
       "      <td>5.7429</td>\n",
       "      <td>1.0</td>\n",
       "      <td>0</td>\n",
       "      <td>1.317510</td>\n",
       "      <td>4.7826</td>\n",
       "      <td>1</td>\n",
       "      <td>0</td>\n",
       "      <td>4</td>\n",
       "      <td>4</td>\n",
       "      <td>0</td>\n",
       "      <td>1</td>\n",
       "      <td>3</td>\n",
       "      <td>3</td>\n",
       "      <td>1</td>\n",
       "    </tr>\n",
       "    <tr>\n",
       "      <th>5439</th>\n",
       "      <td>0</td>\n",
       "      <td>3</td>\n",
       "      <td>0</td>\n",
       "      <td>0.813737</td>\n",
       "      <td>9.0</td>\n",
       "      <td>7.0000</td>\n",
       "      <td>5.0</td>\n",
       "      <td>0</td>\n",
       "      <td>1.238690</td>\n",
       "      <td>21.2143</td>\n",
       "      <td>2</td>\n",
       "      <td>0</td>\n",
       "      <td>2</td>\n",
       "      <td>7</td>\n",
       "      <td>0</td>\n",
       "      <td>2</td>\n",
       "      <td>0</td>\n",
       "      <td>3</td>\n",
       "      <td>0</td>\n",
       "    </tr>\n",
       "    <tr>\n",
       "      <th>5440</th>\n",
       "      <td>0</td>\n",
       "      <td>2</td>\n",
       "      <td>0</td>\n",
       "      <td>0.632940</td>\n",
       "      <td>6.0</td>\n",
       "      <td>16.0625</td>\n",
       "      <td>4.0</td>\n",
       "      <td>0</td>\n",
       "      <td>1.495320</td>\n",
       "      <td>10.7500</td>\n",
       "      <td>0</td>\n",
       "      <td>0</td>\n",
       "      <td>3</td>\n",
       "      <td>2</td>\n",
       "      <td>0</td>\n",
       "      <td>0</td>\n",
       "      <td>0</td>\n",
       "      <td>2</td>\n",
       "      <td>0</td>\n",
       "    </tr>\n",
       "    <tr>\n",
       "      <th>5441</th>\n",
       "      <td>0</td>\n",
       "      <td>0</td>\n",
       "      <td>0</td>\n",
       "      <td>1.544680</td>\n",
       "      <td>14.0</td>\n",
       "      <td>3.6087</td>\n",
       "      <td>8.0</td>\n",
       "      <td>0</td>\n",
       "      <td>0.057137</td>\n",
       "      <td>21.0556</td>\n",
       "      <td>0</td>\n",
       "      <td>0</td>\n",
       "      <td>3</td>\n",
       "      <td>1</td>\n",
       "      <td>0</td>\n",
       "      <td>0</td>\n",
       "      <td>0</td>\n",
       "      <td>0</td>\n",
       "      <td>1</td>\n",
       "    </tr>\n",
       "    <tr>\n",
       "      <th>...</th>\n",
       "      <td>...</td>\n",
       "      <td>...</td>\n",
       "      <td>...</td>\n",
       "      <td>...</td>\n",
       "      <td>...</td>\n",
       "      <td>...</td>\n",
       "      <td>...</td>\n",
       "      <td>...</td>\n",
       "      <td>...</td>\n",
       "      <td>...</td>\n",
       "      <td>...</td>\n",
       "      <td>...</td>\n",
       "      <td>...</td>\n",
       "      <td>...</td>\n",
       "      <td>...</td>\n",
       "      <td>...</td>\n",
       "      <td>...</td>\n",
       "      <td>...</td>\n",
       "      <td>...</td>\n",
       "    </tr>\n",
       "    <tr>\n",
       "      <th>12675</th>\n",
       "      <td>1</td>\n",
       "      <td>2</td>\n",
       "      <td>1</td>\n",
       "      <td>1.411190</td>\n",
       "      <td>15.0</td>\n",
       "      <td>12.3684</td>\n",
       "      <td>9.0</td>\n",
       "      <td>1</td>\n",
       "      <td>1.707510</td>\n",
       "      <td>8.3529</td>\n",
       "      <td>1</td>\n",
       "      <td>0</td>\n",
       "      <td>5</td>\n",
       "      <td>5</td>\n",
       "      <td>1</td>\n",
       "      <td>1</td>\n",
       "      <td>1</td>\n",
       "      <td>2</td>\n",
       "      <td>0</td>\n",
       "    </tr>\n",
       "    <tr>\n",
       "      <th>12676</th>\n",
       "      <td>1</td>\n",
       "      <td>2</td>\n",
       "      <td>1</td>\n",
       "      <td>1.198190</td>\n",
       "      <td>10.0</td>\n",
       "      <td>16.2632</td>\n",
       "      <td>5.0</td>\n",
       "      <td>1</td>\n",
       "      <td>1.238050</td>\n",
       "      <td>27.0000</td>\n",
       "      <td>1</td>\n",
       "      <td>0</td>\n",
       "      <td>3</td>\n",
       "      <td>5</td>\n",
       "      <td>1</td>\n",
       "      <td>1</td>\n",
       "      <td>1</td>\n",
       "      <td>2</td>\n",
       "      <td>0</td>\n",
       "    </tr>\n",
       "    <tr>\n",
       "      <th>12677</th>\n",
       "      <td>2</td>\n",
       "      <td>0</td>\n",
       "      <td>1</td>\n",
       "      <td>1.332690</td>\n",
       "      <td>12.0</td>\n",
       "      <td>8.2857</td>\n",
       "      <td>4.0</td>\n",
       "      <td>1</td>\n",
       "      <td>0.357583</td>\n",
       "      <td>39.7273</td>\n",
       "      <td>0</td>\n",
       "      <td>0</td>\n",
       "      <td>6</td>\n",
       "      <td>2</td>\n",
       "      <td>1</td>\n",
       "      <td>0</td>\n",
       "      <td>2</td>\n",
       "      <td>0</td>\n",
       "      <td>2</td>\n",
       "    </tr>\n",
       "    <tr>\n",
       "      <th>12678</th>\n",
       "      <td>0</td>\n",
       "      <td>1</td>\n",
       "      <td>0</td>\n",
       "      <td>1.460500</td>\n",
       "      <td>19.0</td>\n",
       "      <td>7.5600</td>\n",
       "      <td>9.0</td>\n",
       "      <td>0</td>\n",
       "      <td>1.380290</td>\n",
       "      <td>14.7200</td>\n",
       "      <td>1</td>\n",
       "      <td>0</td>\n",
       "      <td>5</td>\n",
       "      <td>2</td>\n",
       "      <td>0</td>\n",
       "      <td>1</td>\n",
       "      <td>0</td>\n",
       "      <td>1</td>\n",
       "      <td>0</td>\n",
       "    </tr>\n",
       "    <tr>\n",
       "      <th>12679</th>\n",
       "      <td>1</td>\n",
       "      <td>1</td>\n",
       "      <td>1</td>\n",
       "      <td>0.323960</td>\n",
       "      <td>6.0</td>\n",
       "      <td>15.1000</td>\n",
       "      <td>2.0</td>\n",
       "      <td>0</td>\n",
       "      <td>0.521913</td>\n",
       "      <td>15.9524</td>\n",
       "      <td>1</td>\n",
       "      <td>0</td>\n",
       "      <td>2</td>\n",
       "      <td>1</td>\n",
       "      <td>0</td>\n",
       "      <td>1</td>\n",
       "      <td>1</td>\n",
       "      <td>1</td>\n",
       "      <td>1</td>\n",
       "    </tr>\n",
       "  </tbody>\n",
       "</table>\n",
       "<p>12680 rows × 19 columns</p>\n",
       "</div>"
      ],
      "text/plain": [
       "       home_Goals  away_Goals  home_GoalsHalfTime  home_xGoals  home_shots  \\\n",
       "5437            2           2                   2     1.367870         9.0   \n",
       "5438            3           3                   1     1.396890        14.0   \n",
       "5439            0           3                   0     0.813737         9.0   \n",
       "5440            0           2                   0     0.632940         6.0   \n",
       "5441            0           0                   0     1.544680        14.0   \n",
       "...           ...         ...                 ...          ...         ...   \n",
       "12675           1           2                   1     1.411190        15.0   \n",
       "12676           1           2                   1     1.198190        10.0   \n",
       "12677           2           0                   1     1.332690        12.0   \n",
       "12678           0           1                   0     1.460500        19.0   \n",
       "12679           1           1                   1     0.323960         6.0   \n",
       "\n",
       "       home_ppda  home_corners  home_total_assists  away_xGoals  away_ppda  \\\n",
       "5437     31.6000           1.0                   2     2.655380     7.5000   \n",
       "5438      5.7429           1.0                   0     1.317510     4.7826   \n",
       "5439      7.0000           5.0                   0     1.238690    21.2143   \n",
       "5440     16.0625           4.0                   0     1.495320    10.7500   \n",
       "5441      3.6087           8.0                   0     0.057137    21.0556   \n",
       "...          ...           ...                 ...          ...        ...   \n",
       "12675    12.3684           9.0                   1     1.707510     8.3529   \n",
       "12676    16.2632           5.0                   1     1.238050    27.0000   \n",
       "12677     8.2857           4.0                   1     0.357583    39.7273   \n",
       "12678     7.5600           9.0                   0     1.380290    14.7200   \n",
       "12679    15.1000           2.0                   0     0.521913    15.9524   \n",
       "\n",
       "       away_total_assists  away_total_red_cards home_shotsOnTarget_cat  \\\n",
       "5437                    2                     0                      3   \n",
       "5438                    1                     0                      4   \n",
       "5439                    2                     0                      2   \n",
       "5440                    0                     0                      3   \n",
       "5441                    0                     0                      3   \n",
       "...                   ...                   ...                    ...   \n",
       "12675                   1                     0                      5   \n",
       "12676                   1                     0                      3   \n",
       "12677                   0                     0                      6   \n",
       "12678                   1                     0                      5   \n",
       "12679                   1                     0                      2   \n",
       "\n",
       "      away_shotsOnTarget_cat home_total_assists_cat away_total_assists_cat  \\\n",
       "5437                       6                      2                      2   \n",
       "5438                       4                      0                      1   \n",
       "5439                       7                      0                      2   \n",
       "5440                       2                      0                      0   \n",
       "5441                       1                      0                      0   \n",
       "...                      ...                    ...                    ...   \n",
       "12675                      5                      1                      1   \n",
       "12676                      5                      1                      1   \n",
       "12677                      2                      1                      0   \n",
       "12678                      2                      0                      1   \n",
       "12679                      1                      0                      1   \n",
       "\n",
       "      home_Goals_cat away_Goals_cat  gameresult  \n",
       "5437               2              2           1  \n",
       "5438               3              3           1  \n",
       "5439               0              3           0  \n",
       "5440               0              2           0  \n",
       "5441               0              0           1  \n",
       "...              ...            ...         ...  \n",
       "12675              1              2           0  \n",
       "12676              1              2           0  \n",
       "12677              2              0           2  \n",
       "12678              0              1           0  \n",
       "12679              1              1           1  \n",
       "\n",
       "[12680 rows x 19 columns]"
      ]
     },
     "execution_count": 122,
     "metadata": {},
     "output_type": "execute_result"
    }
   ],
   "source": [
    "df_model"
   ]
  },
  {
   "cell_type": "code",
   "execution_count": 123,
   "id": "06fc1e85-af4c-496d-8017-3de212be04ce",
   "metadata": {},
   "outputs": [
    {
     "data": {
      "text/plain": [
       "(12680, 19)"
      ]
     },
     "execution_count": 123,
     "metadata": {},
     "output_type": "execute_result"
    }
   ],
   "source": [
    "df_model.shape"
   ]
  },
  {
   "cell_type": "code",
   "execution_count": 124,
   "id": "33451cb3-3075-4c50-918a-0f4f5f79c4a5",
   "metadata": {},
   "outputs": [
    {
     "data": {
      "text/plain": [
       "(2536, 20)"
      ]
     },
     "execution_count": 124,
     "metadata": {},
     "output_type": "execute_result"
    }
   ],
   "source": [
    "dev.shape"
   ]
  },
  {
   "cell_type": "markdown",
   "id": "55459d03-9287-4f3d-9c66-19d93227ed4b",
   "metadata": {},
   "source": [
    "Visual of the data created on stage 5 with RandomOverSample techniqe"
   ]
  },
  {
   "cell_type": "code",
   "execution_count": 125,
   "id": "3794cc1f-dc6c-47ff-b2c0-d5b5eea5662c",
   "metadata": {},
   "outputs": [
    {
     "data": {
      "text/plain": [
       "[Text(0.5, 1.0, 'Data after Over Sampling')]"
      ]
     },
     "execution_count": 125,
     "metadata": {},
     "output_type": "execute_result"
    },
    {
     "data": {
      "image/png": "[encoded data removed]",
      "text/plain": [
       "<Figure size 1000x500 with 1 Axes>"
      ]
     },
     "metadata": {},
     "output_type": "display_data"
    }
   ],
   "source": [
    "fig, ax = plt.subplots(figsize=(10,5))\n",
    "sns.countplot(x=df_model['gameresult'].dropna(),data=df_model, palette=\"Set2\").set(title='Data after Over Sampling')"
   ]
  },
  {
   "cell_type": "code",
   "execution_count": 126,
   "id": "8078fbda-c2e6-4097-a358-eb145825300e",
   "metadata": {},
   "outputs": [
    {
     "data": {
      "text/plain": [
       "2    5654\n",
       "0    3854\n",
       "1    3172\n",
       "Name: gameresult, dtype: int64"
      ]
     },
     "execution_count": 126,
     "metadata": {},
     "output_type": "execute_result"
    }
   ],
   "source": [
    "df_model['gameresult'].value_counts()"
   ]
  },
  {
   "cell_type": "code",
   "execution_count": 127,
   "id": "46a01864-dee7-4504-9e61-421c5a3fc0f6",
   "metadata": {},
   "outputs": [],
   "source": [
    "X_train = train.loc[:,train.columns != 'gameresult']\n",
    "X_dev = dev.loc[:,dev.columns != 'gameresult']\n",
    "y_train = train['gameresult']\n",
    "y_dev = dev['gameresult']"
   ]
  },
  {
   "cell_type": "code",
   "execution_count": 128,
   "id": "897050ab-3cc6-4bdf-a9b4-408a1688a5c9",
   "metadata": {},
   "outputs": [
    {
     "data": {
      "text/plain": [
       "10682    0\n",
       "10794    1\n",
       "2455     2\n",
       "6463     0\n",
       "168      1\n",
       "        ..\n",
       "3475     1\n",
       "1487     1\n",
       "4070     0\n",
       "4404     2\n",
       "9411     2\n",
       "Name: gameresult, Length: 2536, dtype: int64"
      ]
     },
     "execution_count": 128,
     "metadata": {},
     "output_type": "execute_result"
    }
   ],
   "source": [
    "y_dev"
   ]
  },
  {
   "cell_type": "markdown",
   "id": "68f419da-3169-41a2-a602-f81a383780b9",
   "metadata": {},
   "source": [
    "## Supervised Models\n"
   ]
  },
  {
   "cell_type": "code",
   "execution_count": 217,
   "id": "8744c506-775d-406b-aded-daf63f1b1532",
   "metadata": {},
   "outputs": [],
   "source": [
    "from sklearn.linear_model import LogisticRegression\n",
    "from sklearn.tree import DecisionTreeClassifier\n",
    "from sklearn.ensemble import RandomForestClassifier, AdaBoostClassifier, GradientBoostingClassifier\n",
    "from xgboost import XGBClassifier\n",
    "from sklearn.svm import SVC\n",
    "from sklearn.ensemble import ExtraTreesClassifier"
   ]
  },
  {
   "cell_type": "code",
   "execution_count": 130,
   "id": "eb966027-c774-480a-a58b-be6b4f8aa8da",
   "metadata": {},
   "outputs": [],
   "source": [
    "models_list = pd.DataFrame()"
   ]
  },
  {
   "cell_type": "code",
   "execution_count": 131,
   "id": "7240570e-8314-470e-9702-7a7682463cfb",
   "metadata": {},
   "outputs": [
    {
     "data": {
      "text/plain": [
       "home_Goals                  int64\n",
       "away_Goals                  int64\n",
       "home_GoalsHalfTime          int64\n",
       "home_xGoals               float64\n",
       "home_shots                float64\n",
       "home_ppda                 float64\n",
       "home_corners              float64\n",
       "home_total_assists          int64\n",
       "away_xGoals               float64\n",
       "away_ppda                 float64\n",
       "away_total_assists          int64\n",
       "away_total_red_cards        int64\n",
       "home_shotsOnTarget_cat    float64\n",
       "away_shotsOnTarget_cat    float64\n",
       "home_total_assists_cat    float64\n",
       "away_total_assists_cat    float64\n",
       "home_Goals_cat            float64\n",
       "away_Goals_cat            float64\n",
       "split                        int8\n",
       "dtype: object"
      ]
     },
     "execution_count": 131,
     "metadata": {},
     "output_type": "execute_result"
    }
   ],
   "source": [
    "X_dev['split'] = X_dev['split'].astype('category').cat.codes\n",
    "\n",
    "X_dev.dtypes"
   ]
  },
  {
   "cell_type": "markdown",
   "id": "dfdb9180-7db6-4f3d-8ad2-0b593f61abd2",
   "metadata": {},
   "source": [
    "## Linear Regression"
   ]
  },
  {
   "cell_type": "code",
   "execution_count": 132,
   "id": "c07a38f7-873c-4c26-a104-ea114e30bcca",
   "metadata": {},
   "outputs": [
    {
     "data": {
      "text/plain": [
       "Series([], dtype: float64)"
      ]
     },
     "execution_count": 132,
     "metadata": {},
     "output_type": "execute_result"
    }
   ],
   "source": [
    "X_train.select_dtypes(include=['object']).nunique()\n"
   ]
  },
  {
   "cell_type": "code",
   "execution_count": 133,
   "id": "0ab46c34-2bf5-432d-a176-8f20d6143e80",
   "metadata": {},
   "outputs": [
    {
     "data": {
      "text/plain": [
       "home_Goals                  int64\n",
       "away_Goals                  int64\n",
       "home_GoalsHalfTime          int64\n",
       "home_total_assists          int64\n",
       "away_total_red_cards        int64\n",
       "away_total_assists          int64\n",
       "home_Goals_cat            float64\n",
       "away_total_assists_cat    float64\n",
       "home_total_assists_cat    float64\n",
       "away_shotsOnTarget_cat    float64\n",
       "home_shotsOnTarget_cat    float64\n",
       "away_ppda                 float64\n",
       "away_xGoals               float64\n",
       "home_corners              float64\n",
       "home_ppda                 float64\n",
       "home_shots                float64\n",
       "home_xGoals               float64\n",
       "away_Goals_cat            float64\n",
       "split                     float64\n",
       "dtype: object"
      ]
     },
     "execution_count": 133,
     "metadata": {},
     "output_type": "execute_result"
    }
   ],
   "source": [
    "X_train.dtypes.sort_values()\n"
   ]
  },
  {
   "cell_type": "code",
   "execution_count": 134,
   "id": "484e9da4-41d2-4967-8e5f-fad439abcaf0",
   "metadata": {},
   "outputs": [],
   "source": [
    "# X_train = X_train.drop(columns=['split'])  # example\n",
    "# X_dev = X_dev.drop(columns=['split'])\n"
   ]
  },
  {
   "cell_type": "code",
   "execution_count": 135,
   "id": "2b7169c1-c806-4ef8-988d-98a5258bb1e9",
   "metadata": {},
   "outputs": [],
   "source": [
    "# Option 1: Convert entire DataFrame (safe for encoded data)\n",
    "X_dev = X_dev.apply(pd.to_numeric, errors='raise')\n",
    "X_train = X_train.apply(pd.to_numeric, errors='raise')\n"
   ]
  },
  {
   "cell_type": "code",
   "execution_count": 136,
   "id": "9db02198-b461-43f0-9d1b-2845e40c0aa8",
   "metadata": {},
   "outputs": [],
   "source": [
    "mod1 = LogisticRegression(random_state=1, max_iter=1000)\n",
    "mod1.fit(X_train,y_train)\n",
    "pred1 = mod1.predict(X_dev)\n",
    "proba1 = mod1.predict_proba(X_dev)"
   ]
  },
  {
   "cell_type": "code",
   "execution_count": 137,
   "id": "6766fc24-ad5f-4d61-a97c-c11aa2ca218b",
   "metadata": {},
   "outputs": [],
   "source": [
    "model_dict = {'model': \"Logistic Regression\"}\n",
    "models_list = models_list.append({**model_dict, **classificationMetrics(y_dev, pred1,proba1)}, ignore_index=True)"
   ]
  },
  {
   "cell_type": "code",
   "execution_count": 138,
   "id": "c3d958be-6767-4b1b-8b1c-d60ab4bba522",
   "metadata": {},
   "outputs": [
    {
     "data": {
      "text/html": [
       "<div>\n",
       "<style scoped>\n",
       "    .dataframe tbody tr th:only-of-type {\n",
       "        vertical-align: middle;\n",
       "    }\n",
       "\n",
       "    .dataframe tbody tr th {\n",
       "        vertical-align: top;\n",
       "    }\n",
       "\n",
       "    .dataframe thead th {\n",
       "        text-align: right;\n",
       "    }\n",
       "</style>\n",
       "<table border=\"1\" class=\"dataframe\">\n",
       "  <thead>\n",
       "    <tr style=\"text-align: right;\">\n",
       "      <th>col_0</th>\n",
       "      <th>0</th>\n",
       "      <th>1</th>\n",
       "      <th>2</th>\n",
       "    </tr>\n",
       "    <tr>\n",
       "      <th>gameresult</th>\n",
       "      <th></th>\n",
       "      <th></th>\n",
       "      <th></th>\n",
       "    </tr>\n",
       "  </thead>\n",
       "  <tbody>\n",
       "    <tr>\n",
       "      <th>0</th>\n",
       "      <td>754</td>\n",
       "      <td>0</td>\n",
       "      <td>0</td>\n",
       "    </tr>\n",
       "    <tr>\n",
       "      <th>1</th>\n",
       "      <td>0</td>\n",
       "      <td>639</td>\n",
       "      <td>0</td>\n",
       "    </tr>\n",
       "    <tr>\n",
       "      <th>2</th>\n",
       "      <td>0</td>\n",
       "      <td>0</td>\n",
       "      <td>1143</td>\n",
       "    </tr>\n",
       "  </tbody>\n",
       "</table>\n",
       "</div>"
      ],
      "text/plain": [
       "col_0         0    1     2\n",
       "gameresult                \n",
       "0           754    0     0\n",
       "1             0  639     0\n",
       "2             0    0  1143"
      ]
     },
     "execution_count": 138,
     "metadata": {},
     "output_type": "execute_result"
    }
   ],
   "source": [
    "pd.crosstab(y_dev, pred1)\n"
   ]
  },
  {
   "cell_type": "markdown",
   "id": "2c3ebd17-acf0-4134-bdcd-68f0d93159e8",
   "metadata": {},
   "source": [
    "## Decision Tree\n"
   ]
  },
  {
   "cell_type": "code",
   "execution_count": 139,
   "id": "15dd1ed6-d3d2-4fe7-874f-00bd19c6d8d7",
   "metadata": {},
   "outputs": [],
   "source": [
    "mod2 = DecisionTreeClassifier(random_state=1)\n",
    "mod2.fit(X_train,y_train)\n",
    "pred2= mod2.predict(X_dev)\n",
    "proba2 = mod2.predict_proba(X_dev)\n",
    "\n",
    "model_dict = {'model': \"Decision Tree\"}\n",
    "models_list = models_list.append({**model_dict, **classificationMetrics(y_dev, pred2, proba2)}, ignore_index=True)"
   ]
  },
  {
   "cell_type": "code",
   "execution_count": 140,
   "id": "a5d46dfd-94ce-4231-9bd7-e6b35328fac2",
   "metadata": {},
   "outputs": [
    {
     "data": {
      "text/html": [
       "<div>\n",
       "<style scoped>\n",
       "    .dataframe tbody tr th:only-of-type {\n",
       "        vertical-align: middle;\n",
       "    }\n",
       "\n",
       "    .dataframe tbody tr th {\n",
       "        vertical-align: top;\n",
       "    }\n",
       "\n",
       "    .dataframe thead th {\n",
       "        text-align: right;\n",
       "    }\n",
       "</style>\n",
       "<table border=\"1\" class=\"dataframe\">\n",
       "  <thead>\n",
       "    <tr style=\"text-align: right;\">\n",
       "      <th>col_0</th>\n",
       "      <th>0</th>\n",
       "      <th>1</th>\n",
       "      <th>2</th>\n",
       "    </tr>\n",
       "    <tr>\n",
       "      <th>gameresult</th>\n",
       "      <th></th>\n",
       "      <th></th>\n",
       "      <th></th>\n",
       "    </tr>\n",
       "  </thead>\n",
       "  <tbody>\n",
       "    <tr>\n",
       "      <th>0</th>\n",
       "      <td>754</td>\n",
       "      <td>0</td>\n",
       "      <td>0</td>\n",
       "    </tr>\n",
       "    <tr>\n",
       "      <th>1</th>\n",
       "      <td>0</td>\n",
       "      <td>634</td>\n",
       "      <td>5</td>\n",
       "    </tr>\n",
       "    <tr>\n",
       "      <th>2</th>\n",
       "      <td>0</td>\n",
       "      <td>0</td>\n",
       "      <td>1143</td>\n",
       "    </tr>\n",
       "  </tbody>\n",
       "</table>\n",
       "</div>"
      ],
      "text/plain": [
       "col_0         0    1     2\n",
       "gameresult                \n",
       "0           754    0     0\n",
       "1             0  634     5\n",
       "2             0    0  1143"
      ]
     },
     "execution_count": 140,
     "metadata": {},
     "output_type": "execute_result"
    }
   ],
   "source": [
    "pd.crosstab(y_dev, pred2)\n"
   ]
  },
  {
   "cell_type": "markdown",
   "id": "5ca9f3b4-e4bc-4a94-b12a-18bff36a6353",
   "metadata": {},
   "source": [
    "## Random Forest\n"
   ]
  },
  {
   "cell_type": "code",
   "execution_count": 141,
   "id": "c56b5f43-9e47-4e8e-9c7c-083c4fd2e2f7",
   "metadata": {},
   "outputs": [],
   "source": [
    "mod3 = RandomForestClassifier(random_state=1)\n",
    "mod3.fit(X_train,y_train)\n",
    "pred3 = mod3.predict(X_dev)\n",
    "proba3 = mod3.predict_proba(X_dev)\n",
    "\n",
    "model_dict = {'model': \"RandomForest\"}\n",
    "models_list = models_list.append({**model_dict, **classificationMetrics(y_dev, pred3, proba3)}, ignore_index=True)"
   ]
  },
  {
   "cell_type": "code",
   "execution_count": 142,
   "id": "f429403d-a3ff-417e-a627-a448d1cd8a84",
   "metadata": {},
   "outputs": [
    {
     "data": {
      "text/html": [
       "<div>\n",
       "<style scoped>\n",
       "    .dataframe tbody tr th:only-of-type {\n",
       "        vertical-align: middle;\n",
       "    }\n",
       "\n",
       "    .dataframe tbody tr th {\n",
       "        vertical-align: top;\n",
       "    }\n",
       "\n",
       "    .dataframe thead th {\n",
       "        text-align: right;\n",
       "    }\n",
       "</style>\n",
       "<table border=\"1\" class=\"dataframe\">\n",
       "  <thead>\n",
       "    <tr style=\"text-align: right;\">\n",
       "      <th>col_0</th>\n",
       "      <th>0</th>\n",
       "      <th>1</th>\n",
       "      <th>2</th>\n",
       "    </tr>\n",
       "    <tr>\n",
       "      <th>gameresult</th>\n",
       "      <th></th>\n",
       "      <th></th>\n",
       "      <th></th>\n",
       "    </tr>\n",
       "  </thead>\n",
       "  <tbody>\n",
       "    <tr>\n",
       "      <th>0</th>\n",
       "      <td>754</td>\n",
       "      <td>0</td>\n",
       "      <td>0</td>\n",
       "    </tr>\n",
       "    <tr>\n",
       "      <th>1</th>\n",
       "      <td>1</td>\n",
       "      <td>634</td>\n",
       "      <td>4</td>\n",
       "    </tr>\n",
       "    <tr>\n",
       "      <th>2</th>\n",
       "      <td>0</td>\n",
       "      <td>0</td>\n",
       "      <td>1143</td>\n",
       "    </tr>\n",
       "  </tbody>\n",
       "</table>\n",
       "</div>"
      ],
      "text/plain": [
       "col_0         0    1     2\n",
       "gameresult                \n",
       "0           754    0     0\n",
       "1             1  634     4\n",
       "2             0    0  1143"
      ]
     },
     "execution_count": 142,
     "metadata": {},
     "output_type": "execute_result"
    }
   ],
   "source": [
    "pd.crosstab(y_dev, pred3)"
   ]
  },
  {
   "cell_type": "markdown",
   "id": "dc2b63b7-bca5-49fa-a69f-70631881da81",
   "metadata": {},
   "source": [
    "## Adaptive Boosting (ADABoost)"
   ]
  },
  {
   "cell_type": "code",
   "execution_count": 143,
   "id": "52a92a86-9c12-4a70-ac30-b5f4ee6ffb2f",
   "metadata": {},
   "outputs": [],
   "source": [
    "mod4 = AdaBoostClassifier(random_state=1)\n",
    "mod4.fit(X_train,y_train)\n",
    "pred4 = mod4.predict(X_dev)\n",
    "proba4 = mod4.predict_proba(X_dev)\n",
    "\n",
    "model_dict = {'model': \"ADABoost\"}\n",
    "models_list = models_list.append({**model_dict, **classificationMetrics(y_dev, pred4, proba4)}, ignore_index=True)"
   ]
  },
  {
   "cell_type": "code",
   "execution_count": 144,
   "id": "7bd74eac-b6ae-46eb-a116-81eede8d7fa1",
   "metadata": {},
   "outputs": [
    {
     "data": {
      "text/html": [
       "<div>\n",
       "<style scoped>\n",
       "    .dataframe tbody tr th:only-of-type {\n",
       "        vertical-align: middle;\n",
       "    }\n",
       "\n",
       "    .dataframe tbody tr th {\n",
       "        vertical-align: top;\n",
       "    }\n",
       "\n",
       "    .dataframe thead th {\n",
       "        text-align: right;\n",
       "    }\n",
       "</style>\n",
       "<table border=\"1\" class=\"dataframe\">\n",
       "  <thead>\n",
       "    <tr style=\"text-align: right;\">\n",
       "      <th>col_0</th>\n",
       "      <th>0</th>\n",
       "      <th>1</th>\n",
       "      <th>2</th>\n",
       "    </tr>\n",
       "    <tr>\n",
       "      <th>gameresult</th>\n",
       "      <th></th>\n",
       "      <th></th>\n",
       "      <th></th>\n",
       "    </tr>\n",
       "  </thead>\n",
       "  <tbody>\n",
       "    <tr>\n",
       "      <th>0</th>\n",
       "      <td>409</td>\n",
       "      <td>345</td>\n",
       "      <td>0</td>\n",
       "    </tr>\n",
       "    <tr>\n",
       "      <th>1</th>\n",
       "      <td>0</td>\n",
       "      <td>639</td>\n",
       "      <td>0</td>\n",
       "    </tr>\n",
       "    <tr>\n",
       "      <th>2</th>\n",
       "      <td>0</td>\n",
       "      <td>512</td>\n",
       "      <td>631</td>\n",
       "    </tr>\n",
       "  </tbody>\n",
       "</table>\n",
       "</div>"
      ],
      "text/plain": [
       "col_0         0    1    2\n",
       "gameresult               \n",
       "0           409  345    0\n",
       "1             0  639    0\n",
       "2             0  512  631"
      ]
     },
     "execution_count": 144,
     "metadata": {},
     "output_type": "execute_result"
    }
   ],
   "source": [
    "pd.crosstab(y_dev, pred4)\n"
   ]
  },
  {
   "cell_type": "markdown",
   "id": "b4dde50c-4b17-4024-85fb-56b3e957c595",
   "metadata": {},
   "source": [
    "## Gradient Boosting Machine (GBM)"
   ]
  },
  {
   "cell_type": "code",
   "execution_count": 145,
   "id": "75dc1ccd-38a8-4b00-a69c-d9a783c04df5",
   "metadata": {},
   "outputs": [],
   "source": [
    "mod5 = GradientBoostingClassifier(random_state=1)\n",
    "mod5.fit(X_train,y_train)\n",
    "pred5 = mod5.predict(X_dev)\n",
    "proba5 = mod5.predict_proba(X_dev)\n",
    "\n",
    "model_dict = {'model': \"GBM\"}\n",
    "models_list = models_list.append({**model_dict, **classificationMetrics(y_dev, pred5, proba5)}, ignore_index=True)"
   ]
  },
  {
   "cell_type": "code",
   "execution_count": 146,
   "id": "e77644f0-0f33-445d-af62-7478cd5913ff",
   "metadata": {},
   "outputs": [
    {
     "data": {
      "text/html": [
       "<div>\n",
       "<style scoped>\n",
       "    .dataframe tbody tr th:only-of-type {\n",
       "        vertical-align: middle;\n",
       "    }\n",
       "\n",
       "    .dataframe tbody tr th {\n",
       "        vertical-align: top;\n",
       "    }\n",
       "\n",
       "    .dataframe thead th {\n",
       "        text-align: right;\n",
       "    }\n",
       "</style>\n",
       "<table border=\"1\" class=\"dataframe\">\n",
       "  <thead>\n",
       "    <tr style=\"text-align: right;\">\n",
       "      <th>col_0</th>\n",
       "      <th>0</th>\n",
       "      <th>1</th>\n",
       "      <th>2</th>\n",
       "    </tr>\n",
       "    <tr>\n",
       "      <th>gameresult</th>\n",
       "      <th></th>\n",
       "      <th></th>\n",
       "      <th></th>\n",
       "    </tr>\n",
       "  </thead>\n",
       "  <tbody>\n",
       "    <tr>\n",
       "      <th>0</th>\n",
       "      <td>754</td>\n",
       "      <td>0</td>\n",
       "      <td>0</td>\n",
       "    </tr>\n",
       "    <tr>\n",
       "      <th>1</th>\n",
       "      <td>2</td>\n",
       "      <td>637</td>\n",
       "      <td>0</td>\n",
       "    </tr>\n",
       "    <tr>\n",
       "      <th>2</th>\n",
       "      <td>0</td>\n",
       "      <td>0</td>\n",
       "      <td>1143</td>\n",
       "    </tr>\n",
       "  </tbody>\n",
       "</table>\n",
       "</div>"
      ],
      "text/plain": [
       "col_0         0    1     2\n",
       "gameresult                \n",
       "0           754    0     0\n",
       "1             2  637     0\n",
       "2             0    0  1143"
      ]
     },
     "execution_count": 146,
     "metadata": {},
     "output_type": "execute_result"
    }
   ],
   "source": [
    "pd.crosstab(y_dev, pred5)"
   ]
  },
  {
   "cell_type": "markdown",
   "id": "29fa057d-1857-4524-b8a1-28f7a2542485",
   "metadata": {},
   "source": [
    "## Support Vector Machine (SVM)"
   ]
  },
  {
   "cell_type": "code",
   "execution_count": 147,
   "id": "51bd55f9-dd8f-421e-a96d-eb60fa7c15a3",
   "metadata": {},
   "outputs": [],
   "source": [
    "mod6 = SVC(probability=True)\n",
    "mod6.fit(X_train,y_train)\n",
    "pred6 = mod6.predict(X_dev)\n",
    "proba6 = mod6.predict_proba(X_dev)\n",
    "\n",
    "model_dict = {'model': \"SVM\"}\n",
    "models_list = models_list.append({**model_dict, **classificationMetrics(y_dev, pred6, proba6)}, ignore_index=True)"
   ]
  },
  {
   "cell_type": "code",
   "execution_count": 148,
   "id": "5956d434-1613-4ed8-8ad5-35d703d32eca",
   "metadata": {},
   "outputs": [
    {
     "data": {
      "text/html": [
       "<div>\n",
       "<style scoped>\n",
       "    .dataframe tbody tr th:only-of-type {\n",
       "        vertical-align: middle;\n",
       "    }\n",
       "\n",
       "    .dataframe tbody tr th {\n",
       "        vertical-align: top;\n",
       "    }\n",
       "\n",
       "    .dataframe thead th {\n",
       "        text-align: right;\n",
       "    }\n",
       "</style>\n",
       "<table border=\"1\" class=\"dataframe\">\n",
       "  <thead>\n",
       "    <tr style=\"text-align: right;\">\n",
       "      <th>col_0</th>\n",
       "      <th>0</th>\n",
       "      <th>1</th>\n",
       "      <th>2</th>\n",
       "    </tr>\n",
       "    <tr>\n",
       "      <th>gameresult</th>\n",
       "      <th></th>\n",
       "      <th></th>\n",
       "      <th></th>\n",
       "    </tr>\n",
       "  </thead>\n",
       "  <tbody>\n",
       "    <tr>\n",
       "      <th>0</th>\n",
       "      <td>748</td>\n",
       "      <td>5</td>\n",
       "      <td>1</td>\n",
       "    </tr>\n",
       "    <tr>\n",
       "      <th>1</th>\n",
       "      <td>3</td>\n",
       "      <td>635</td>\n",
       "      <td>1</td>\n",
       "    </tr>\n",
       "    <tr>\n",
       "      <th>2</th>\n",
       "      <td>0</td>\n",
       "      <td>4</td>\n",
       "      <td>1139</td>\n",
       "    </tr>\n",
       "  </tbody>\n",
       "</table>\n",
       "</div>"
      ],
      "text/plain": [
       "col_0         0    1     2\n",
       "gameresult                \n",
       "0           748    5     1\n",
       "1             3  635     1\n",
       "2             0    4  1139"
      ]
     },
     "execution_count": 148,
     "metadata": {},
     "output_type": "execute_result"
    }
   ],
   "source": [
    "pd.crosstab(y_dev, pred6)"
   ]
  },
  {
   "cell_type": "markdown",
   "id": "7fc20027-841b-48c0-a5f3-b94c7c98ce2b",
   "metadata": {},
   "source": [
    "## XGBoost parallel tree boosting (GBDT, GBM)"
   ]
  },
  {
   "cell_type": "code",
   "execution_count": 149,
   "id": "a285cea0-24cc-4309-ae08-af2b631eae5b",
   "metadata": {},
   "outputs": [],
   "source": [
    "from xgboost import XGBClassifier\n",
    "mod7 = XGBClassifier(random_state=1)\n",
    "mod7.fit(X_train,y_train)\n",
    "pred7 = mod7.predict(X_dev)\n",
    "proba7 = mod7.predict_proba(X_dev)\n",
    "\n",
    "model_dict = {'model': \"XGB\"}\n",
    "models_list = models_list.append({**model_dict, **classificationMetrics(y_dev, pred7,proba7)}, ignore_index=True)"
   ]
  },
  {
   "cell_type": "code",
   "execution_count": 150,
   "id": "9594f28d-86fc-46f6-8b7a-a15670fe720f",
   "metadata": {},
   "outputs": [
    {
     "data": {
      "text/html": [
       "<div>\n",
       "<style scoped>\n",
       "    .dataframe tbody tr th:only-of-type {\n",
       "        vertical-align: middle;\n",
       "    }\n",
       "\n",
       "    .dataframe tbody tr th {\n",
       "        vertical-align: top;\n",
       "    }\n",
       "\n",
       "    .dataframe thead th {\n",
       "        text-align: right;\n",
       "    }\n",
       "</style>\n",
       "<table border=\"1\" class=\"dataframe\">\n",
       "  <thead>\n",
       "    <tr style=\"text-align: right;\">\n",
       "      <th>col_0</th>\n",
       "      <th>0</th>\n",
       "      <th>1</th>\n",
       "      <th>2</th>\n",
       "    </tr>\n",
       "    <tr>\n",
       "      <th>gameresult</th>\n",
       "      <th></th>\n",
       "      <th></th>\n",
       "      <th></th>\n",
       "    </tr>\n",
       "  </thead>\n",
       "  <tbody>\n",
       "    <tr>\n",
       "      <th>0</th>\n",
       "      <td>754</td>\n",
       "      <td>0</td>\n",
       "      <td>0</td>\n",
       "    </tr>\n",
       "    <tr>\n",
       "      <th>1</th>\n",
       "      <td>2</td>\n",
       "      <td>634</td>\n",
       "      <td>3</td>\n",
       "    </tr>\n",
       "    <tr>\n",
       "      <th>2</th>\n",
       "      <td>0</td>\n",
       "      <td>0</td>\n",
       "      <td>1143</td>\n",
       "    </tr>\n",
       "  </tbody>\n",
       "</table>\n",
       "</div>"
      ],
      "text/plain": [
       "col_0         0    1     2\n",
       "gameresult                \n",
       "0           754    0     0\n",
       "1             2  634     3\n",
       "2             0    0  1143"
      ]
     },
     "execution_count": 150,
     "metadata": {},
     "output_type": "execute_result"
    }
   ],
   "source": [
    "pd.crosstab(y_dev, pred7)"
   ]
  },
  {
   "cell_type": "markdown",
   "id": "379ce28d-98a6-4c0a-a0b1-9112d1994d2b",
   "metadata": {},
   "source": [
    "## Model Selection"
   ]
  },
  {
   "cell_type": "code",
   "execution_count": 151,
   "id": "28421340-fcbb-4e91-97c4-9cc7b2f9e9d2",
   "metadata": {},
   "outputs": [
    {
     "data": {
      "text/html": [
       "<div>\n",
       "<style scoped>\n",
       "    .dataframe tbody tr th:only-of-type {\n",
       "        vertical-align: middle;\n",
       "    }\n",
       "\n",
       "    .dataframe tbody tr th {\n",
       "        vertical-align: top;\n",
       "    }\n",
       "\n",
       "    .dataframe thead th {\n",
       "        text-align: right;\n",
       "    }\n",
       "</style>\n",
       "<table border=\"1\" class=\"dataframe\">\n",
       "  <thead>\n",
       "    <tr style=\"text-align: right;\">\n",
       "      <th></th>\n",
       "      <th>model</th>\n",
       "      <th>Accuracy</th>\n",
       "      <th>Precision</th>\n",
       "      <th>Recall</th>\n",
       "      <th>f1-score</th>\n",
       "      <th>Log-loss</th>\n",
       "      <th>AUC</th>\n",
       "    </tr>\n",
       "  </thead>\n",
       "  <tbody>\n",
       "    <tr>\n",
       "      <th>0</th>\n",
       "      <td>Logistic Regression</td>\n",
       "      <td>1.000000</td>\n",
       "      <td>1.000000</td>\n",
       "      <td>1.000000</td>\n",
       "      <td>1.000000</td>\n",
       "      <td>0.005162</td>\n",
       "      <td>1.000000</td>\n",
       "    </tr>\n",
       "    <tr>\n",
       "      <th>6</th>\n",
       "      <td>XGB</td>\n",
       "      <td>0.998028</td>\n",
       "      <td>0.998034</td>\n",
       "      <td>0.998028</td>\n",
       "      <td>0.998026</td>\n",
       "      <td>0.005235</td>\n",
       "      <td>1.000000</td>\n",
       "    </tr>\n",
       "    <tr>\n",
       "      <th>2</th>\n",
       "      <td>RandomForest</td>\n",
       "      <td>0.998028</td>\n",
       "      <td>0.998034</td>\n",
       "      <td>0.998028</td>\n",
       "      <td>0.998026</td>\n",
       "      <td>0.014983</td>\n",
       "      <td>0.999991</td>\n",
       "    </tr>\n",
       "    <tr>\n",
       "      <th>4</th>\n",
       "      <td>GBM</td>\n",
       "      <td>0.999211</td>\n",
       "      <td>0.999213</td>\n",
       "      <td>0.999211</td>\n",
       "      <td>0.999211</td>\n",
       "      <td>0.007243</td>\n",
       "      <td>0.999971</td>\n",
       "    </tr>\n",
       "    <tr>\n",
       "      <th>5</th>\n",
       "      <td>SVM</td>\n",
       "      <td>0.994479</td>\n",
       "      <td>0.994501</td>\n",
       "      <td>0.994479</td>\n",
       "      <td>0.994485</td>\n",
       "      <td>0.012243</td>\n",
       "      <td>0.999957</td>\n",
       "    </tr>\n",
       "    <tr>\n",
       "      <th>1</th>\n",
       "      <td>Decision Tree</td>\n",
       "      <td>0.998028</td>\n",
       "      <td>0.998037</td>\n",
       "      <td>0.998028</td>\n",
       "      <td>0.998027</td>\n",
       "      <td>0.071064</td>\n",
       "      <td>0.998098</td>\n",
       "    </tr>\n",
       "    <tr>\n",
       "      <th>3</th>\n",
       "      <td>ADABoost</td>\n",
       "      <td>0.662066</td>\n",
       "      <td>0.855655</td>\n",
       "      <td>0.662066</td>\n",
       "      <td>0.680578</td>\n",
       "      <td>0.645262</td>\n",
       "      <td>0.963105</td>\n",
       "    </tr>\n",
       "  </tbody>\n",
       "</table>\n",
       "</div>"
      ],
      "text/plain": [
       "                 model  Accuracy  Precision    Recall  f1-score  Log-loss  \\\n",
       "0  Logistic Regression  1.000000   1.000000  1.000000  1.000000  0.005162   \n",
       "6                  XGB  0.998028   0.998034  0.998028  0.998026  0.005235   \n",
       "2         RandomForest  0.998028   0.998034  0.998028  0.998026  0.014983   \n",
       "4                  GBM  0.999211   0.999213  0.999211  0.999211  0.007243   \n",
       "5                  SVM  0.994479   0.994501  0.994479  0.994485  0.012243   \n",
       "1        Decision Tree  0.998028   0.998037  0.998028  0.998027  0.071064   \n",
       "3             ADABoost  0.662066   0.855655  0.662066  0.680578  0.645262   \n",
       "\n",
       "        AUC  \n",
       "0  1.000000  \n",
       "6  1.000000  \n",
       "2  0.999991  \n",
       "4  0.999971  \n",
       "5  0.999957  \n",
       "1  0.998098  \n",
       "3  0.963105  "
      ]
     },
     "execution_count": 151,
     "metadata": {},
     "output_type": "execute_result"
    }
   ],
   "source": [
    "models_list.sort_values('AUC',ascending=False)"
   ]
  },
  {
   "cell_type": "markdown",
   "id": "d7a6635c-1b0b-4748-9799-7ec25a68c5a5",
   "metadata": {},
   "source": [
    "## Based on performance metrics (Accuracy, F1, Log-loss, and AUC), Logistic Regression and XGBoost provide the best overall classification performance, with perfectly calibrated predictions and clean probability separation. Models like Random Forest and GBM follow closely. AdaBoost underperforms significantly and may require further tuning or replacement."
   ]
  },
  {
   "cell_type": "markdown",
   "id": "1ed6add6-b827-4dd1-b781-a2976850e64f",
   "metadata": {},
   "source": [
    "🧠 Key Factors for Model Choice\n",
    "Factor\tConsideration\n",
    "Accuracy / F1\tLogistic Regression, XGB, GBM all strong\n",
    "Log-loss (probability quality)\tLogistic Regression & XGB best\n",
    "Interpretability\tLogistic Regression > Tree-based models\n",
    "Scalability / Speed\tLogistic Regression fast, XGB scales well\n",
    "Overfitting risk\tCheck cross-validation — GBM/XGB may overfit\n",
    "Deployment constraints\tAny restrictions (e.g. explainability?)\n",
    "\n",
    "🔍 Final Recommendation\n",
    "🏆 Primary candidate for fine-tuning: XGBoost\n",
    "Performs nearly as well as logistic regression on all metrics\n",
    "\n",
    "Offers better flexibility and non-linearity handling\n",
    "\n",
    "Handles missing values, outliers, and feature interactions automatically\n",
    "\n",
    "Highly tunable for performance, with great libraries/tools (e.g. Optuna, CV)"
   ]
  },
  {
   "cell_type": "markdown",
   "id": "61093eaa-57bd-4a44-8f5a-85a856bdfce7",
   "metadata": {},
   "source": [
    "## Hyperparameter Finetuning for XGBoost Model (XGB)"
   ]
  },
  {
   "cell_type": "markdown",
   "id": "221eecd2-f47b-416c-ad47-d5824f250b54",
   "metadata": {},
   "source": [
    " XGBoost Import Block"
   ]
  },
  {
   "cell_type": "code",
   "execution_count": 219,
   "id": "69c05e28-ffb0-4c3b-b179-ba8d4bf7d4c1",
   "metadata": {},
   "outputs": [],
   "source": [
    "# Core XGBoost models\n",
    "from xgboost import XGBClassifier, XGBRegressor\n",
    "\n",
    "# Model tuning and splitting\n",
    "from sklearn.model_selection import train_test_split, GridSearchCV, RandomizedSearchCV\n",
    "\n",
    "# Metrics\n",
    "from sklearn.metrics import classification_report, mean_absolute_error, accuracy_score, f1_score, log_loss, roc_auc_score, precision_score, recall_score, f1_score, confusion_matrix, classification_report\n",
    "# For early stopping and eval sets\n",
    "import xgboost as xgb\n",
    "\n",
    "# Native XGBoost CV (optional, for advanced users)\n",
    "from xgboost import cv, DMatrix\n"
   ]
  },
  {
   "cell_type": "code",
   "execution_count": 153,
   "id": "0e6f4a6f-95b9-4ae1-a1f1-0c1e79957c28",
   "metadata": {},
   "outputs": [
    {
     "data": {
      "text/html": [
       "<div>\n",
       "<style scoped>\n",
       "    .dataframe tbody tr th:only-of-type {\n",
       "        vertical-align: middle;\n",
       "    }\n",
       "\n",
       "    .dataframe tbody tr th {\n",
       "        vertical-align: top;\n",
       "    }\n",
       "\n",
       "    .dataframe thead th {\n",
       "        text-align: right;\n",
       "    }\n",
       "</style>\n",
       "<table border=\"1\" class=\"dataframe\">\n",
       "  <thead>\n",
       "    <tr style=\"text-align: right;\">\n",
       "      <th></th>\n",
       "      <th>home_Goals</th>\n",
       "      <th>away_Goals</th>\n",
       "      <th>home_GoalsHalfTime</th>\n",
       "      <th>home_xGoals</th>\n",
       "      <th>home_shots</th>\n",
       "      <th>home_ppda</th>\n",
       "      <th>home_corners</th>\n",
       "      <th>home_total_assists</th>\n",
       "      <th>away_xGoals</th>\n",
       "      <th>away_ppda</th>\n",
       "      <th>away_total_assists</th>\n",
       "      <th>away_total_red_cards</th>\n",
       "      <th>home_shotsOnTarget_cat</th>\n",
       "      <th>away_shotsOnTarget_cat</th>\n",
       "      <th>home_total_assists_cat</th>\n",
       "      <th>away_total_assists_cat</th>\n",
       "      <th>home_Goals_cat</th>\n",
       "      <th>away_Goals_cat</th>\n",
       "      <th>gameresult</th>\n",
       "      <th>split</th>\n",
       "    </tr>\n",
       "  </thead>\n",
       "  <tbody>\n",
       "    <tr>\n",
       "      <th>9123</th>\n",
       "      <td>1</td>\n",
       "      <td>0</td>\n",
       "      <td>0</td>\n",
       "      <td>1.354740</td>\n",
       "      <td>10.000000</td>\n",
       "      <td>6.1111</td>\n",
       "      <td>7.0</td>\n",
       "      <td>1</td>\n",
       "      <td>0.484752</td>\n",
       "      <td>10.8800</td>\n",
       "      <td>0</td>\n",
       "      <td>0</td>\n",
       "      <td>5.0</td>\n",
       "      <td>6.0</td>\n",
       "      <td>1.0</td>\n",
       "      <td>0.0</td>\n",
       "      <td>1.0</td>\n",
       "      <td>0.0</td>\n",
       "      <td>2</td>\n",
       "      <td>test</td>\n",
       "    </tr>\n",
       "    <tr>\n",
       "      <th>809</th>\n",
       "      <td>0</td>\n",
       "      <td>0</td>\n",
       "      <td>0</td>\n",
       "      <td>1.030380</td>\n",
       "      <td>19.000000</td>\n",
       "      <td>2.2500</td>\n",
       "      <td>4.0</td>\n",
       "      <td>0</td>\n",
       "      <td>0.263110</td>\n",
       "      <td>12.7333</td>\n",
       "      <td>0</td>\n",
       "      <td>0</td>\n",
       "      <td>5.0</td>\n",
       "      <td>4.0</td>\n",
       "      <td>0.0</td>\n",
       "      <td>0.0</td>\n",
       "      <td>0.0</td>\n",
       "      <td>0.0</td>\n",
       "      <td>1</td>\n",
       "      <td>test</td>\n",
       "    </tr>\n",
       "    <tr>\n",
       "      <th>780</th>\n",
       "      <td>0</td>\n",
       "      <td>1</td>\n",
       "      <td>0</td>\n",
       "      <td>0.744526</td>\n",
       "      <td>15.000000</td>\n",
       "      <td>7.5758</td>\n",
       "      <td>4.0</td>\n",
       "      <td>0</td>\n",
       "      <td>1.413000</td>\n",
       "      <td>6.0476</td>\n",
       "      <td>1</td>\n",
       "      <td>0</td>\n",
       "      <td>4.0</td>\n",
       "      <td>5.0</td>\n",
       "      <td>0.0</td>\n",
       "      <td>1.0</td>\n",
       "      <td>0.0</td>\n",
       "      <td>1.0</td>\n",
       "      <td>0</td>\n",
       "      <td>test</td>\n",
       "    </tr>\n",
       "    <tr>\n",
       "      <th>265</th>\n",
       "      <td>3</td>\n",
       "      <td>2</td>\n",
       "      <td>3</td>\n",
       "      <td>2.074880</td>\n",
       "      <td>11.000000</td>\n",
       "      <td>10.8571</td>\n",
       "      <td>3.0</td>\n",
       "      <td>2</td>\n",
       "      <td>1.216380</td>\n",
       "      <td>8.1000</td>\n",
       "      <td>1</td>\n",
       "      <td>0</td>\n",
       "      <td>7.0</td>\n",
       "      <td>4.0</td>\n",
       "      <td>2.0</td>\n",
       "      <td>1.0</td>\n",
       "      <td>3.0</td>\n",
       "      <td>2.0</td>\n",
       "      <td>2</td>\n",
       "      <td>test</td>\n",
       "    </tr>\n",
       "    <tr>\n",
       "      <th>12190</th>\n",
       "      <td>1</td>\n",
       "      <td>1</td>\n",
       "      <td>0</td>\n",
       "      <td>1.754310</td>\n",
       "      <td>13.484856</td>\n",
       "      <td>3.3704</td>\n",
       "      <td>10.0</td>\n",
       "      <td>0</td>\n",
       "      <td>0.547118</td>\n",
       "      <td>23.8000</td>\n",
       "      <td>1</td>\n",
       "      <td>1</td>\n",
       "      <td>10.0</td>\n",
       "      <td>4.0</td>\n",
       "      <td>0.0</td>\n",
       "      <td>1.0</td>\n",
       "      <td>1.0</td>\n",
       "      <td>1.0</td>\n",
       "      <td>1</td>\n",
       "      <td>test</td>\n",
       "    </tr>\n",
       "    <tr>\n",
       "      <th>...</th>\n",
       "      <td>...</td>\n",
       "      <td>...</td>\n",
       "      <td>...</td>\n",
       "      <td>...</td>\n",
       "      <td>...</td>\n",
       "      <td>...</td>\n",
       "      <td>...</td>\n",
       "      <td>...</td>\n",
       "      <td>...</td>\n",
       "      <td>...</td>\n",
       "      <td>...</td>\n",
       "      <td>...</td>\n",
       "      <td>...</td>\n",
       "      <td>...</td>\n",
       "      <td>...</td>\n",
       "      <td>...</td>\n",
       "      <td>...</td>\n",
       "      <td>...</td>\n",
       "      <td>...</td>\n",
       "      <td>...</td>\n",
       "    </tr>\n",
       "    <tr>\n",
       "      <th>4626</th>\n",
       "      <td>1</td>\n",
       "      <td>4</td>\n",
       "      <td>1</td>\n",
       "      <td>1.495350</td>\n",
       "      <td>16.000000</td>\n",
       "      <td>10.6190</td>\n",
       "      <td>9.0</td>\n",
       "      <td>1</td>\n",
       "      <td>3.363920</td>\n",
       "      <td>12.4615</td>\n",
       "      <td>3</td>\n",
       "      <td>0</td>\n",
       "      <td>8.0</td>\n",
       "      <td>11.0</td>\n",
       "      <td>1.0</td>\n",
       "      <td>3.0</td>\n",
       "      <td>1.0</td>\n",
       "      <td>4.0</td>\n",
       "      <td>0</td>\n",
       "      <td>test</td>\n",
       "    </tr>\n",
       "    <tr>\n",
       "      <th>11262</th>\n",
       "      <td>1</td>\n",
       "      <td>2</td>\n",
       "      <td>1</td>\n",
       "      <td>1.474980</td>\n",
       "      <td>13.000000</td>\n",
       "      <td>7.6000</td>\n",
       "      <td>13.0</td>\n",
       "      <td>1</td>\n",
       "      <td>1.407060</td>\n",
       "      <td>4.7647</td>\n",
       "      <td>2</td>\n",
       "      <td>0</td>\n",
       "      <td>8.0</td>\n",
       "      <td>6.0</td>\n",
       "      <td>1.0</td>\n",
       "      <td>2.0</td>\n",
       "      <td>1.0</td>\n",
       "      <td>2.0</td>\n",
       "      <td>0</td>\n",
       "      <td>test</td>\n",
       "    </tr>\n",
       "    <tr>\n",
       "      <th>3731</th>\n",
       "      <td>1</td>\n",
       "      <td>3</td>\n",
       "      <td>1</td>\n",
       "      <td>0.600074</td>\n",
       "      <td>8.000000</td>\n",
       "      <td>10.0000</td>\n",
       "      <td>2.0</td>\n",
       "      <td>1</td>\n",
       "      <td>1.517170</td>\n",
       "      <td>11.6923</td>\n",
       "      <td>2</td>\n",
       "      <td>0</td>\n",
       "      <td>4.0</td>\n",
       "      <td>6.0</td>\n",
       "      <td>1.0</td>\n",
       "      <td>2.0</td>\n",
       "      <td>1.0</td>\n",
       "      <td>3.0</td>\n",
       "      <td>0</td>\n",
       "      <td>test</td>\n",
       "    </tr>\n",
       "    <tr>\n",
       "      <th>439</th>\n",
       "      <td>2</td>\n",
       "      <td>0</td>\n",
       "      <td>1</td>\n",
       "      <td>0.569734</td>\n",
       "      <td>13.000000</td>\n",
       "      <td>10.9583</td>\n",
       "      <td>7.0</td>\n",
       "      <td>2</td>\n",
       "      <td>0.776105</td>\n",
       "      <td>9.6111</td>\n",
       "      <td>0</td>\n",
       "      <td>0</td>\n",
       "      <td>6.0</td>\n",
       "      <td>4.0</td>\n",
       "      <td>2.0</td>\n",
       "      <td>0.0</td>\n",
       "      <td>2.0</td>\n",
       "      <td>0.0</td>\n",
       "      <td>2</td>\n",
       "      <td>test</td>\n",
       "    </tr>\n",
       "    <tr>\n",
       "      <th>1827</th>\n",
       "      <td>0</td>\n",
       "      <td>3</td>\n",
       "      <td>0</td>\n",
       "      <td>0.135570</td>\n",
       "      <td>3.000000</td>\n",
       "      <td>20.4286</td>\n",
       "      <td>3.0</td>\n",
       "      <td>0</td>\n",
       "      <td>2.136190</td>\n",
       "      <td>10.1250</td>\n",
       "      <td>3</td>\n",
       "      <td>0</td>\n",
       "      <td>4.0</td>\n",
       "      <td>10.0</td>\n",
       "      <td>0.0</td>\n",
       "      <td>3.0</td>\n",
       "      <td>0.0</td>\n",
       "      <td>3.0</td>\n",
       "      <td>0</td>\n",
       "      <td>test</td>\n",
       "    </tr>\n",
       "  </tbody>\n",
       "</table>\n",
       "<p>2536 rows × 20 columns</p>\n",
       "</div>"
      ],
      "text/plain": [
       "       home_Goals  away_Goals  home_GoalsHalfTime  home_xGoals  home_shots  \\\n",
       "9123            1           0                   0     1.354740   10.000000   \n",
       "809             0           0                   0     1.030380   19.000000   \n",
       "780             0           1                   0     0.744526   15.000000   \n",
       "265             3           2                   3     2.074880   11.000000   \n",
       "12190           1           1                   0     1.754310   13.484856   \n",
       "...           ...         ...                 ...          ...         ...   \n",
       "4626            1           4                   1     1.495350   16.000000   \n",
       "11262           1           2                   1     1.474980   13.000000   \n",
       "3731            1           3                   1     0.600074    8.000000   \n",
       "439             2           0                   1     0.569734   13.000000   \n",
       "1827            0           3                   0     0.135570    3.000000   \n",
       "\n",
       "       home_ppda  home_corners  home_total_assists  away_xGoals  away_ppda  \\\n",
       "9123      6.1111           7.0                   1     0.484752    10.8800   \n",
       "809       2.2500           4.0                   0     0.263110    12.7333   \n",
       "780       7.5758           4.0                   0     1.413000     6.0476   \n",
       "265      10.8571           3.0                   2     1.216380     8.1000   \n",
       "12190     3.3704          10.0                   0     0.547118    23.8000   \n",
       "...          ...           ...                 ...          ...        ...   \n",
       "4626     10.6190           9.0                   1     3.363920    12.4615   \n",
       "11262     7.6000          13.0                   1     1.407060     4.7647   \n",
       "3731     10.0000           2.0                   1     1.517170    11.6923   \n",
       "439      10.9583           7.0                   2     0.776105     9.6111   \n",
       "1827     20.4286           3.0                   0     2.136190    10.1250   \n",
       "\n",
       "       away_total_assists  away_total_red_cards  home_shotsOnTarget_cat  \\\n",
       "9123                    0                     0                     5.0   \n",
       "809                     0                     0                     5.0   \n",
       "780                     1                     0                     4.0   \n",
       "265                     1                     0                     7.0   \n",
       "12190                   1                     1                    10.0   \n",
       "...                   ...                   ...                     ...   \n",
       "4626                    3                     0                     8.0   \n",
       "11262                   2                     0                     8.0   \n",
       "3731                    2                     0                     4.0   \n",
       "439                     0                     0                     6.0   \n",
       "1827                    3                     0                     4.0   \n",
       "\n",
       "       away_shotsOnTarget_cat  home_total_assists_cat  away_total_assists_cat  \\\n",
       "9123                      6.0                     1.0                     0.0   \n",
       "809                       4.0                     0.0                     0.0   \n",
       "780                       5.0                     0.0                     1.0   \n",
       "265                       4.0                     2.0                     1.0   \n",
       "12190                     4.0                     0.0                     1.0   \n",
       "...                       ...                     ...                     ...   \n",
       "4626                     11.0                     1.0                     3.0   \n",
       "11262                     6.0                     1.0                     2.0   \n",
       "3731                      6.0                     1.0                     2.0   \n",
       "439                       4.0                     2.0                     0.0   \n",
       "1827                     10.0                     0.0                     3.0   \n",
       "\n",
       "       home_Goals_cat  away_Goals_cat  gameresult split  \n",
       "9123              1.0             0.0           2  test  \n",
       "809               0.0             0.0           1  test  \n",
       "780               0.0             1.0           0  test  \n",
       "265               3.0             2.0           2  test  \n",
       "12190             1.0             1.0           1  test  \n",
       "...               ...             ...         ...   ...  \n",
       "4626              1.0             4.0           0  test  \n",
       "11262             1.0             2.0           0  test  \n",
       "3731              1.0             3.0           0  test  \n",
       "439               2.0             0.0           2  test  \n",
       "1827              0.0             3.0           0  test  \n",
       "\n",
       "[2536 rows x 20 columns]"
      ]
     },
     "execution_count": 153,
     "metadata": {},
     "output_type": "execute_result"
    }
   ],
   "source": [
    "test"
   ]
  },
  {
   "cell_type": "code",
   "execution_count": 154,
   "id": "70f1194d-cf7b-441e-af9b-84ef5c07bc56",
   "metadata": {},
   "outputs": [],
   "source": [
    "del test['split']"
   ]
  },
  {
   "cell_type": "code",
   "execution_count": 155,
   "id": "8144036e-e893-4a49-a3f3-0270cda07a53",
   "metadata": {},
   "outputs": [],
   "source": [
    "X_test = test.loc[:,test.columns != 'gameresult']\n",
    "y_test = test['gameresult']"
   ]
  },
  {
   "cell_type": "markdown",
   "id": "bf92a75c-61f2-4fd0-aa9c-4fa33bb55e0c",
   "metadata": {},
   "source": [
    "## Random Search"
   ]
  },
  {
   "cell_type": "code",
   "execution_count": 156,
   "id": "8beec767-d7c5-4881-b8d9-452d0e7545b1",
   "metadata": {},
   "outputs": [
    {
     "data": {
      "text/plain": [
       "dict_keys(['objective', 'use_label_encoder', 'base_score', 'booster', 'callbacks', 'colsample_bylevel', 'colsample_bynode', 'colsample_bytree', 'early_stopping_rounds', 'enable_categorical', 'eval_metric', 'gamma', 'gpu_id', 'grow_policy', 'importance_type', 'interaction_constraints', 'learning_rate', 'max_bin', 'max_cat_to_onehot', 'max_delta_step', 'max_depth', 'max_leaves', 'min_child_weight', 'missing', 'monotone_constraints', 'n_estimators', 'n_jobs', 'num_parallel_tree', 'predictor', 'random_state', 'reg_alpha', 'reg_lambda', 'sampling_method', 'scale_pos_weight', 'subsample', 'tree_method', 'validate_parameters', 'verbosity'])"
      ]
     },
     "execution_count": 156,
     "metadata": {},
     "output_type": "execute_result"
    }
   ],
   "source": [
    "# 1. Initialize base model\n",
    "xgb_model = XGBClassifier(use_label_encoder=False, eval_metric='logloss')\n",
    "xgb_model.get_params().keys()"
   ]
  },
  {
   "cell_type": "code",
   "execution_count": 158,
   "id": "c7646d2d-9961-4c00-9842-5bffd1b3bca9",
   "metadata": {},
   "outputs": [],
   "source": [
    "# 2. Define hyperparameter grid\n",
    "n_estimators = [int(x) for x in np.linspace(start=100, stop=1000, num=10)]\n",
    "max_depth = [int(x) for x in np.linspace(10, 110, num=11)]\n",
    "max_depth.append(None)\n",
    "max_features = ['auto', 'sqrt']  # Note: XGBoost uses 'colsample_bytree' instead\n",
    "min_child_weight = [50]  # Like min_samples_leaf\n",
    "subsample = [0.8]"
   ]
  },
  {
   "cell_type": "code",
   "execution_count": 159,
   "id": "bd8fce61-e6d2-4e0f-8afe-28e6c2c9f4d0",
   "metadata": {},
   "outputs": [],
   "source": [
    "# Map to XGBoost params\n",
    "random_grid = {\n",
    "    'n_estimators': n_estimators,\n",
    "    'max_depth': max_depth,\n",
    "    'colsample_bytree': [0.8, 1.0],\n",
    "    'min_child_weight': min_child_weight,\n",
    "    'subsample': subsample,\n",
    "    'learning_rate': [0.01, 0.05, 0.1]\n",
    "}"
   ]
  },
  {
   "cell_type": "code",
   "execution_count": 160,
   "id": "222fc4a6-a5a8-4b77-bbda-3fbe3f5f4447",
   "metadata": {},
   "outputs": [
    {
     "name": "stdout",
     "output_type": "stream",
     "text": [
      "Random Grid: {'n_estimators': [100, 200, 300, 400, 500, 600, 700, 800, 900, 1000], 'max_depth': [10, 20, 30, 40, 50, 60, 70, 80, 90, 100, 110, None], 'colsample_bytree': [0.8, 1.0], 'min_child_weight': [50], 'subsample': [0.8], 'learning_rate': [0.01, 0.05, 0.1]}\n"
     ]
    }
   ],
   "source": [
    "print(\"Random Grid:\", random_grid)"
   ]
  },
  {
   "cell_type": "code",
   "execution_count": 161,
   "id": "9c539c58-b011-4608-9f6d-2f8ac281f0f8",
   "metadata": {},
   "outputs": [],
   "source": [
    "# 3. Randomized Search\n",
    "xgb_random = RandomizedSearchCV(\n",
    "    estimator=xgb_model,\n",
    "    param_distributions=random_grid,\n",
    "    n_iter=50,\n",
    "    scoring='accuracy',\n",
    "    verbose=2,\n",
    "    random_state=42,\n",
    "    cv=5,\n",
    "    n_jobs=-1\n",
    ")"
   ]
  },
  {
   "cell_type": "code",
   "execution_count": 178,
   "id": "f22d051a-62b1-4698-8090-4a13c9e2b1cc",
   "metadata": {},
   "outputs": [],
   "source": [
    "del X_train['split']"
   ]
  },
  {
   "cell_type": "code",
   "execution_count": 198,
   "id": "e5684d7e-f2af-469e-90d5-d6b268ebbc6b",
   "metadata": {},
   "outputs": [
    {
     "name": "stdout",
     "output_type": "stream",
     "text": [
      "Fitting 5 folds for each of 50 candidates, totalling 250 fits\n"
     ]
    },
    {
     "data": {
      "text/html": [
       "<style>#sk-container-id-3 {color: black;}#sk-container-id-3 pre{padding: 0;}#sk-container-id-3 div.sk-toggleable {background-color: white;}#sk-container-id-3 label.sk-toggleable__label {cursor: pointer;display: block;width: 100%;margin-bottom: 0;padding: 0.3em;box-sizing: border-box;text-align: center;}#sk-container-id-3 label.sk-toggleable__label-arrow:before {content: \"▸\";float: left;margin-right: 0.25em;color: #696969;}#sk-container-id-3 label.sk-toggleable__label-arrow:hover:before {color: black;}#sk-container-id-3 div.sk-estimator:hover label.sk-toggleable__label-arrow:before {color: black;}#sk-container-id-3 div.sk-toggleable__content {max-height: 0;max-width: 0;overflow: hidden;text-align: left;background-color: #f0f8ff;}#sk-container-id-3 div.sk-toggleable__content pre {margin: 0.2em;color: black;border-radius: 0.25em;background-color: #f0f8ff;}#sk-container-id-3 input.sk-toggleable__control:checked~div.sk-toggleable__content {max-height: 200px;max-width: 100%;overflow: auto;}#sk-container-id-3 input.sk-toggleable__control:checked~label.sk-toggleable__label-arrow:before {content: \"▾\";}#sk-container-id-3 div.sk-estimator input.sk-toggleable__control:checked~label.sk-toggleable__label {background-color: #d4ebff;}#sk-container-id-3 div.sk-label input.sk-toggleable__control:checked~label.sk-toggleable__label {background-color: #d4ebff;}#sk-container-id-3 input.sk-hidden--visually {border: 0;clip: rect(1px 1px 1px 1px);clip: rect(1px, 1px, 1px, 1px);height: 1px;margin: -1px;overflow: hidden;padding: 0;position: absolute;width: 1px;}#sk-container-id-3 div.sk-estimator {font-family: monospace;background-color: #f0f8ff;border: 1px dotted black;border-radius: 0.25em;box-sizing: border-box;margin-bottom: 0.5em;}#sk-container-id-3 div.sk-estimator:hover {background-color: #d4ebff;}#sk-container-id-3 div.sk-parallel-item::after {content: \"\";width: 100%;border-bottom: 1px solid gray;flex-grow: 1;}#sk-container-id-3 div.sk-label:hover label.sk-toggleable__label {background-color: #d4ebff;}#sk-container-id-3 div.sk-serial::before {content: \"\";position: absolute;border-left: 1px solid gray;box-sizing: border-box;top: 0;bottom: 0;left: 50%;z-index: 0;}#sk-container-id-3 div.sk-serial {display: flex;flex-direction: column;align-items: center;background-color: white;padding-right: 0.2em;padding-left: 0.2em;position: relative;}#sk-container-id-3 div.sk-item {position: relative;z-index: 1;}#sk-container-id-3 div.sk-parallel {display: flex;align-items: stretch;justify-content: center;background-color: white;position: relative;}#sk-container-id-3 div.sk-item::before, #sk-container-id-3 div.sk-parallel-item::before {content: \"\";position: absolute;border-left: 1px solid gray;box-sizing: border-box;top: 0;bottom: 0;left: 50%;z-index: -1;}#sk-container-id-3 div.sk-parallel-item {display: flex;flex-direction: column;z-index: 1;position: relative;background-color: white;}#sk-container-id-3 div.sk-parallel-item:first-child::after {align-self: flex-end;width: 50%;}#sk-container-id-3 div.sk-parallel-item:last-child::after {align-self: flex-start;width: 50%;}#sk-container-id-3 div.sk-parallel-item:only-child::after {width: 0;}#sk-container-id-3 div.sk-dashed-wrapped {border: 1px dashed gray;margin: 0 0.4em 0.5em 0.4em;box-sizing: border-box;padding-bottom: 0.4em;background-color: white;}#sk-container-id-3 div.sk-label label {font-family: monospace;font-weight: bold;display: inline-block;line-height: 1.2em;}#sk-container-id-3 div.sk-label-container {text-align: center;}#sk-container-id-3 div.sk-container {/* jupyter's `normalize.less` sets `[hidden] { display: none; }` but bootstrap.min.css set `[hidden] { display: none !important; }` so we also need the `!important` here to be able to override the default hidden behavior on the sphinx rendered scikit-learn.org. See: https://github.com/scikit-learn/scikit-learn/issues/21755 */display: inline-block !important;position: relative;}#sk-container-id-3 div.sk-text-repr-fallback {display: none;}</style><div id=\"sk-container-id-3\" class=\"sk-top-container\"><div class=\"sk-text-repr-fallback\"><pre>RandomizedSearchCV(cv=5,\n",
       "                   estimator=XGBClassifier(base_score=None, booster=None,\n",
       "                                           callbacks=None,\n",
       "                                           colsample_bylevel=None,\n",
       "                                           colsample_bynode=None,\n",
       "                                           colsample_bytree=None,\n",
       "                                           early_stopping_rounds=None,\n",
       "                                           enable_categorical=False,\n",
       "                                           eval_metric=&#x27;logloss&#x27;, gamma=None,\n",
       "                                           gpu_id=None, grow_policy=None,\n",
       "                                           importance_type=None,\n",
       "                                           interaction_constraints=None,\n",
       "                                           learning_rate=None, max_bin=...\n",
       "                                           predictor=None, random_state=None,\n",
       "                                           reg_alpha=None, reg_lambda=None, ...),\n",
       "                   n_iter=50, n_jobs=-1,\n",
       "                   param_distributions={&#x27;colsample_bytree&#x27;: [0.8, 1.0],\n",
       "                                        &#x27;learning_rate&#x27;: [0.01, 0.05, 0.1],\n",
       "                                        &#x27;max_depth&#x27;: [10, 20, 30, 40, 50, 60,\n",
       "                                                      70, 80, 90, 100, 110,\n",
       "                                                      None],\n",
       "                                        &#x27;min_child_weight&#x27;: [50],\n",
       "                                        &#x27;n_estimators&#x27;: [100, 200, 300, 400,\n",
       "                                                         500, 600, 700, 800,\n",
       "                                                         900, 1000],\n",
       "                                        &#x27;subsample&#x27;: [0.8]},\n",
       "                   random_state=42, scoring=&#x27;accuracy&#x27;, verbose=2)</pre><b>In a Jupyter environment, please rerun this cell to show the HTML representation or trust the notebook. <br />On GitHub, the HTML representation is unable to render, please try loading this page with nbviewer.org.</b></div><div class=\"sk-container\" hidden><div class=\"sk-item sk-dashed-wrapped\"><div class=\"sk-label-container\"><div class=\"sk-label sk-toggleable\"><input class=\"sk-toggleable__control sk-hidden--visually\" id=\"sk-estimator-id-5\" type=\"checkbox\" ><label for=\"sk-estimator-id-5\" class=\"sk-toggleable__label sk-toggleable__label-arrow\">RandomizedSearchCV</label><div class=\"sk-toggleable__content\"><pre>RandomizedSearchCV(cv=5,\n",
       "                   estimator=XGBClassifier(base_score=None, booster=None,\n",
       "                                           callbacks=None,\n",
       "                                           colsample_bylevel=None,\n",
       "                                           colsample_bynode=None,\n",
       "                                           colsample_bytree=None,\n",
       "                                           early_stopping_rounds=None,\n",
       "                                           enable_categorical=False,\n",
       "                                           eval_metric=&#x27;logloss&#x27;, gamma=None,\n",
       "                                           gpu_id=None, grow_policy=None,\n",
       "                                           importance_type=None,\n",
       "                                           interaction_constraints=None,\n",
       "                                           learning_rate=None, max_bin=...\n",
       "                                           predictor=None, random_state=None,\n",
       "                                           reg_alpha=None, reg_lambda=None, ...),\n",
       "                   n_iter=50, n_jobs=-1,\n",
       "                   param_distributions={&#x27;colsample_bytree&#x27;: [0.8, 1.0],\n",
       "                                        &#x27;learning_rate&#x27;: [0.01, 0.05, 0.1],\n",
       "                                        &#x27;max_depth&#x27;: [10, 20, 30, 40, 50, 60,\n",
       "                                                      70, 80, 90, 100, 110,\n",
       "                                                      None],\n",
       "                                        &#x27;min_child_weight&#x27;: [50],\n",
       "                                        &#x27;n_estimators&#x27;: [100, 200, 300, 400,\n",
       "                                                         500, 600, 700, 800,\n",
       "                                                         900, 1000],\n",
       "                                        &#x27;subsample&#x27;: [0.8]},\n",
       "                   random_state=42, scoring=&#x27;accuracy&#x27;, verbose=2)</pre></div></div></div><div class=\"sk-parallel\"><div class=\"sk-parallel-item\"><div class=\"sk-item\"><div class=\"sk-label-container\"><div class=\"sk-label sk-toggleable\"><input class=\"sk-toggleable__control sk-hidden--visually\" id=\"sk-estimator-id-6\" type=\"checkbox\" ><label for=\"sk-estimator-id-6\" class=\"sk-toggleable__label sk-toggleable__label-arrow\">estimator: XGBClassifier</label><div class=\"sk-toggleable__content\"><pre>XGBClassifier(base_score=None, booster=None, callbacks=None,\n",
       "              colsample_bylevel=None, colsample_bynode=None,\n",
       "              colsample_bytree=None, early_stopping_rounds=None,\n",
       "              enable_categorical=False, eval_metric=&#x27;logloss&#x27;, gamma=None,\n",
       "              gpu_id=None, grow_policy=None, importance_type=None,\n",
       "              interaction_constraints=None, learning_rate=None, max_bin=None,\n",
       "              max_cat_to_onehot=None, max_delta_step=None, max_depth=None,\n",
       "              max_leaves=None, min_child_weight=None, missing=nan,\n",
       "              monotone_constraints=None, n_estimators=100, n_jobs=None,\n",
       "              num_parallel_tree=None, predictor=None, random_state=None,\n",
       "              reg_alpha=None, reg_lambda=None, ...)</pre></div></div></div><div class=\"sk-serial\"><div class=\"sk-item\"><div class=\"sk-estimator sk-toggleable\"><input class=\"sk-toggleable__control sk-hidden--visually\" id=\"sk-estimator-id-7\" type=\"checkbox\" ><label for=\"sk-estimator-id-7\" class=\"sk-toggleable__label sk-toggleable__label-arrow\">XGBClassifier</label><div class=\"sk-toggleable__content\"><pre>XGBClassifier(base_score=None, booster=None, callbacks=None,\n",
       "              colsample_bylevel=None, colsample_bynode=None,\n",
       "              colsample_bytree=None, early_stopping_rounds=None,\n",
       "              enable_categorical=False, eval_metric=&#x27;logloss&#x27;, gamma=None,\n",
       "              gpu_id=None, grow_policy=None, importance_type=None,\n",
       "              interaction_constraints=None, learning_rate=None, max_bin=None,\n",
       "              max_cat_to_onehot=None, max_delta_step=None, max_depth=None,\n",
       "              max_leaves=None, min_child_weight=None, missing=nan,\n",
       "              monotone_constraints=None, n_estimators=100, n_jobs=None,\n",
       "              num_parallel_tree=None, predictor=None, random_state=None,\n",
       "              reg_alpha=None, reg_lambda=None, ...)</pre></div></div></div></div></div></div></div></div></div></div>"
      ],
      "text/plain": [
       "RandomizedSearchCV(cv=5,\n",
       "                   estimator=XGBClassifier(base_score=None, booster=None,\n",
       "                                           callbacks=None,\n",
       "                                           colsample_bylevel=None,\n",
       "                                           colsample_bynode=None,\n",
       "                                           colsample_bytree=None,\n",
       "                                           early_stopping_rounds=None,\n",
       "                                           enable_categorical=False,\n",
       "                                           eval_metric='logloss', gamma=None,\n",
       "                                           gpu_id=None, grow_policy=None,\n",
       "                                           importance_type=None,\n",
       "                                           interaction_constraints=None,\n",
       "                                           learning_rate=None, max_bin=...\n",
       "                                           predictor=None, random_state=None,\n",
       "                                           reg_alpha=None, reg_lambda=None, ...),\n",
       "                   n_iter=50, n_jobs=-1,\n",
       "                   param_distributions={'colsample_bytree': [0.8, 1.0],\n",
       "                                        'learning_rate': [0.01, 0.05, 0.1],\n",
       "                                        'max_depth': [10, 20, 30, 40, 50, 60,\n",
       "                                                      70, 80, 90, 100, 110,\n",
       "                                                      None],\n",
       "                                        'min_child_weight': [50],\n",
       "                                        'n_estimators': [100, 200, 300, 400,\n",
       "                                                         500, 600, 700, 800,\n",
       "                                                         900, 1000],\n",
       "                                        'subsample': [0.8]},\n",
       "                   random_state=42, scoring='accuracy', verbose=2)"
      ]
     },
     "execution_count": 198,
     "metadata": {},
     "output_type": "execute_result"
    }
   ],
   "source": [
    "# Fit model\n",
    "xgb_random.fit(X_train, y_train)"
   ]
  },
  {
   "cell_type": "code",
   "execution_count": 226,
   "id": "8aedc0de-d834-4c74-86e4-1715dc553a95",
   "metadata": {},
   "outputs": [],
   "source": [
    "def evaluate(model, X, y):\n",
    "    predictions = model.predict(X)\n",
    "    accuracy = accuracy_score(y, predictions)\n",
    "    precision = precision_score(y, predictions, average='weighted', zero_division=0)\n",
    "    recall = recall_score(y, predictions, average='weighted', zero_division=0)\n",
    "    f1 = f1_score(y, predictions, average='weighted', zero_division=0)\n",
    "    mae = mean_absolute_error(y, predictions)\n",
    "    print('Model Performance')\n",
    "    print(f\"Accuracy:         {accuracy:.4f}\")\n",
    "    print(f\"Precision:        {precision:.4f}\")\n",
    "    print(f\"Recall:           {recall:.4f}\")\n",
    "    print(f\"F1-score:         {f1:.4f}\")\n",
    "    print(f\"Mean Absolute Error: {mae:.4f}\")\n",
    "    return accuracy"
   ]
  },
  {
   "cell_type": "code",
   "execution_count": 200,
   "id": "adb05db7-1740-4987-870c-d166fe96b82c",
   "metadata": {},
   "outputs": [
    {
     "name": "stdout",
     "output_type": "stream",
     "text": [
      "<class 'pandas.core.frame.DataFrame'>\n",
      "Int64Index: 7608 entries, 8859 to 11119\n",
      "Data columns (total 18 columns):\n",
      " #   Column                  Non-Null Count  Dtype  \n",
      "---  ------                  --------------  -----  \n",
      " 0   home_Goals              7608 non-null   int64  \n",
      " 1   away_Goals              7608 non-null   int64  \n",
      " 2   home_GoalsHalfTime      7608 non-null   int64  \n",
      " 3   home_xGoals             7608 non-null   float64\n",
      " 4   home_shots              7608 non-null   float64\n",
      " 5   home_ppda               7608 non-null   float64\n",
      " 6   home_corners            7608 non-null   float64\n",
      " 7   home_total_assists      7608 non-null   int64  \n",
      " 8   away_xGoals             7608 non-null   float64\n",
      " 9   away_ppda               7608 non-null   float64\n",
      " 10  away_total_assists      7608 non-null   int64  \n",
      " 11  away_total_red_cards    7608 non-null   int64  \n",
      " 12  home_shotsOnTarget_cat  7608 non-null   float64\n",
      " 13  away_shotsOnTarget_cat  7608 non-null   float64\n",
      " 14  home_total_assists_cat  7608 non-null   float64\n",
      " 15  away_total_assists_cat  7608 non-null   float64\n",
      " 16  home_Goals_cat          7608 non-null   float64\n",
      " 17  away_Goals_cat          7608 non-null   float64\n",
      "dtypes: float64(12), int64(6)\n",
      "memory usage: 1.1 MB\n"
     ]
    }
   ],
   "source": [
    "X_train.info()"
   ]
  },
  {
   "cell_type": "code",
   "execution_count": 201,
   "id": "d327cab8-cec5-49c4-b301-74105740bc43",
   "metadata": {},
   "outputs": [],
   "source": [
    "trained_columns = X_train.columns"
   ]
  },
  {
   "cell_type": "code",
   "execution_count": 202,
   "id": "a292fa76-f428-4aa9-9629-907fb6d00a53",
   "metadata": {},
   "outputs": [],
   "source": [
    "# Ensure test/dev sets match training features\n",
    "X_test = X_test.reindex(columns=trained_columns, fill_value=0)\n",
    "X_dev = X_dev.reindex(columns=trained_columns, fill_value=0)\n"
   ]
  },
  {
   "cell_type": "code",
   "execution_count": 227,
   "id": "eb5e553e-d8f2-4afe-bcc4-8e82199fd581",
   "metadata": {},
   "outputs": [
    {
     "name": "stdout",
     "output_type": "stream",
     "text": [
      "Model Performance\n",
      "Accuracy:         0.9992\n",
      "Precision:        0.9992\n",
      "Recall:           0.9992\n",
      "F1-score:         0.9992\n",
      "Mean Absolute Error: 0.0008\n"
     ]
    }
   ],
   "source": [
    "\n",
    "# Baseline model\n",
    "base_model = XGBClassifier(n_estimators=1000, random_state=4, use_label_encoder=False, eval_metric='logloss')\n",
    "base_model.fit(X_train, y_train)\n",
    "base_accuracy = evaluate(base_model, X_test, y_test)"
   ]
  },
  {
   "cell_type": "code",
   "execution_count": 228,
   "id": "bf011c8c-5c1c-4b05-a635-a214a5b88351",
   "metadata": {},
   "outputs": [
    {
     "name": "stdout",
     "output_type": "stream",
     "text": [
      "Model Performance\n",
      "Accuracy:         0.9941\n",
      "Precision:        0.9941\n",
      "Recall:           0.9941\n",
      "F1-score:         0.9941\n",
      "Mean Absolute Error: 0.0063\n",
      "Improvement of -0.51%\n"
     ]
    }
   ],
   "source": [
    "# Best from Randomized Search\n",
    "best_random = xgb_random.best_estimator_\n",
    "random_accuracy = evaluate(best_random, X_test, y_test)\n",
    "print('Improvement of {:.2f}%'.format(100 * (random_accuracy - base_accuracy) / base_accuracy))"
   ]
  },
  {
   "cell_type": "code",
   "execution_count": 229,
   "id": "0e626faf-2d13-455d-978c-e9df53033598",
   "metadata": {},
   "outputs": [
    {
     "name": "stdout",
     "output_type": "stream",
     "text": [
      "Model Performance\n",
      "Accuracy:         0.9980\n",
      "Precision:        0.9980\n",
      "Recall:           0.9980\n",
      "F1-score:         0.9980\n",
      "Mean Absolute Error: 0.0020\n",
      "Model Performance\n",
      "Accuracy:         0.9933\n",
      "Precision:        0.9933\n",
      "Recall:           0.9933\n",
      "F1-score:         0.9933\n",
      "Mean Absolute Error: 0.0075\n",
      "Improvement on dev: -0.47%\n"
     ]
    }
   ],
   "source": [
    "# Dev set\n",
    "base_accuracy_dev = evaluate(base_model, X_dev, y_dev)\n",
    "random_accuracy_dev = evaluate(best_random, X_dev, y_dev)\n",
    "print('Improvement on dev: {:.2f}%'.format(100 * (random_accuracy_dev - base_accuracy_dev) / base_accuracy_dev))"
   ]
  },
  {
   "cell_type": "code",
   "execution_count": 230,
   "id": "f0453490-47ff-4a4d-8034-96cb7ca61828",
   "metadata": {},
   "outputs": [],
   "source": [
    "# 4. Grid Search CV (refine)\n",
    "param_grid = {\n",
    "    'max_depth': [55, 60],\n",
    "    'colsample_bytree': [0.8],\n",
    "    'min_child_weight': [45, 50],\n",
    "    'n_estimators': [1000]\n",
    "}\n"
   ]
  },
  {
   "cell_type": "code",
   "execution_count": 231,
   "id": "95912645-7314-4f05-bc18-7e6303129f7a",
   "metadata": {},
   "outputs": [
    {
     "name": "stdout",
     "output_type": "stream",
     "text": [
      "Fitting 3 folds for each of 4 candidates, totalling 12 fits\n"
     ]
    },
    {
     "data": {
      "text/html": [
       "<style>#sk-container-id-6 {color: black;}#sk-container-id-6 pre{padding: 0;}#sk-container-id-6 div.sk-toggleable {background-color: white;}#sk-container-id-6 label.sk-toggleable__label {cursor: pointer;display: block;width: 100%;margin-bottom: 0;padding: 0.3em;box-sizing: border-box;text-align: center;}#sk-container-id-6 label.sk-toggleable__label-arrow:before {content: \"▸\";float: left;margin-right: 0.25em;color: #696969;}#sk-container-id-6 label.sk-toggleable__label-arrow:hover:before {color: black;}#sk-container-id-6 div.sk-estimator:hover label.sk-toggleable__label-arrow:before {color: black;}#sk-container-id-6 div.sk-toggleable__content {max-height: 0;max-width: 0;overflow: hidden;text-align: left;background-color: #f0f8ff;}#sk-container-id-6 div.sk-toggleable__content pre {margin: 0.2em;color: black;border-radius: 0.25em;background-color: #f0f8ff;}#sk-container-id-6 input.sk-toggleable__control:checked~div.sk-toggleable__content {max-height: 200px;max-width: 100%;overflow: auto;}#sk-container-id-6 input.sk-toggleable__control:checked~label.sk-toggleable__label-arrow:before {content: \"▾\";}#sk-container-id-6 div.sk-estimator input.sk-toggleable__control:checked~label.sk-toggleable__label {background-color: #d4ebff;}#sk-container-id-6 div.sk-label input.sk-toggleable__control:checked~label.sk-toggleable__label {background-color: #d4ebff;}#sk-container-id-6 input.sk-hidden--visually {border: 0;clip: rect(1px 1px 1px 1px);clip: rect(1px, 1px, 1px, 1px);height: 1px;margin: -1px;overflow: hidden;padding: 0;position: absolute;width: 1px;}#sk-container-id-6 div.sk-estimator {font-family: monospace;background-color: #f0f8ff;border: 1px dotted black;border-radius: 0.25em;box-sizing: border-box;margin-bottom: 0.5em;}#sk-container-id-6 div.sk-estimator:hover {background-color: #d4ebff;}#sk-container-id-6 div.sk-parallel-item::after {content: \"\";width: 100%;border-bottom: 1px solid gray;flex-grow: 1;}#sk-container-id-6 div.sk-label:hover label.sk-toggleable__label {background-color: #d4ebff;}#sk-container-id-6 div.sk-serial::before {content: \"\";position: absolute;border-left: 1px solid gray;box-sizing: border-box;top: 0;bottom: 0;left: 50%;z-index: 0;}#sk-container-id-6 div.sk-serial {display: flex;flex-direction: column;align-items: center;background-color: white;padding-right: 0.2em;padding-left: 0.2em;position: relative;}#sk-container-id-6 div.sk-item {position: relative;z-index: 1;}#sk-container-id-6 div.sk-parallel {display: flex;align-items: stretch;justify-content: center;background-color: white;position: relative;}#sk-container-id-6 div.sk-item::before, #sk-container-id-6 div.sk-parallel-item::before {content: \"\";position: absolute;border-left: 1px solid gray;box-sizing: border-box;top: 0;bottom: 0;left: 50%;z-index: -1;}#sk-container-id-6 div.sk-parallel-item {display: flex;flex-direction: column;z-index: 1;position: relative;background-color: white;}#sk-container-id-6 div.sk-parallel-item:first-child::after {align-self: flex-end;width: 50%;}#sk-container-id-6 div.sk-parallel-item:last-child::after {align-self: flex-start;width: 50%;}#sk-container-id-6 div.sk-parallel-item:only-child::after {width: 0;}#sk-container-id-6 div.sk-dashed-wrapped {border: 1px dashed gray;margin: 0 0.4em 0.5em 0.4em;box-sizing: border-box;padding-bottom: 0.4em;background-color: white;}#sk-container-id-6 div.sk-label label {font-family: monospace;font-weight: bold;display: inline-block;line-height: 1.2em;}#sk-container-id-6 div.sk-label-container {text-align: center;}#sk-container-id-6 div.sk-container {/* jupyter's `normalize.less` sets `[hidden] { display: none; }` but bootstrap.min.css set `[hidden] { display: none !important; }` so we also need the `!important` here to be able to override the default hidden behavior on the sphinx rendered scikit-learn.org. See: https://github.com/scikit-learn/scikit-learn/issues/21755 */display: inline-block !important;position: relative;}#sk-container-id-6 div.sk-text-repr-fallback {display: none;}</style><div id=\"sk-container-id-6\" class=\"sk-top-container\"><div class=\"sk-text-repr-fallback\"><pre>GridSearchCV(cv=3,\n",
       "             estimator=XGBClassifier(base_score=None, booster=None,\n",
       "                                     callbacks=None, colsample_bylevel=None,\n",
       "                                     colsample_bynode=None,\n",
       "                                     colsample_bytree=None,\n",
       "                                     early_stopping_rounds=None,\n",
       "                                     enable_categorical=False,\n",
       "                                     eval_metric=&#x27;logloss&#x27;, gamma=None,\n",
       "                                     gpu_id=None, grow_policy=None,\n",
       "                                     importance_type=None,\n",
       "                                     interaction_constraints=None,\n",
       "                                     learning_rate=None, max_bin=None,\n",
       "                                     m...\n",
       "                                     max_delta_step=None, max_depth=None,\n",
       "                                     max_leaves=None, min_child_weight=None,\n",
       "                                     missing=nan, monotone_constraints=None,\n",
       "                                     n_estimators=100, n_jobs=None,\n",
       "                                     num_parallel_tree=None, predictor=None,\n",
       "                                     random_state=None, reg_alpha=None,\n",
       "                                     reg_lambda=None, ...),\n",
       "             n_jobs=-1,\n",
       "             param_grid={&#x27;colsample_bytree&#x27;: [0.8], &#x27;max_depth&#x27;: [55, 60],\n",
       "                         &#x27;min_child_weight&#x27;: [45, 50], &#x27;n_estimators&#x27;: [1000]},\n",
       "             verbose=2)</pre><b>In a Jupyter environment, please rerun this cell to show the HTML representation or trust the notebook. <br />On GitHub, the HTML representation is unable to render, please try loading this page with nbviewer.org.</b></div><div class=\"sk-container\" hidden><div class=\"sk-item sk-dashed-wrapped\"><div class=\"sk-label-container\"><div class=\"sk-label sk-toggleable\"><input class=\"sk-toggleable__control sk-hidden--visually\" id=\"sk-estimator-id-14\" type=\"checkbox\" ><label for=\"sk-estimator-id-14\" class=\"sk-toggleable__label sk-toggleable__label-arrow\">GridSearchCV</label><div class=\"sk-toggleable__content\"><pre>GridSearchCV(cv=3,\n",
       "             estimator=XGBClassifier(base_score=None, booster=None,\n",
       "                                     callbacks=None, colsample_bylevel=None,\n",
       "                                     colsample_bynode=None,\n",
       "                                     colsample_bytree=None,\n",
       "                                     early_stopping_rounds=None,\n",
       "                                     enable_categorical=False,\n",
       "                                     eval_metric=&#x27;logloss&#x27;, gamma=None,\n",
       "                                     gpu_id=None, grow_policy=None,\n",
       "                                     importance_type=None,\n",
       "                                     interaction_constraints=None,\n",
       "                                     learning_rate=None, max_bin=None,\n",
       "                                     m...\n",
       "                                     max_delta_step=None, max_depth=None,\n",
       "                                     max_leaves=None, min_child_weight=None,\n",
       "                                     missing=nan, monotone_constraints=None,\n",
       "                                     n_estimators=100, n_jobs=None,\n",
       "                                     num_parallel_tree=None, predictor=None,\n",
       "                                     random_state=None, reg_alpha=None,\n",
       "                                     reg_lambda=None, ...),\n",
       "             n_jobs=-1,\n",
       "             param_grid={&#x27;colsample_bytree&#x27;: [0.8], &#x27;max_depth&#x27;: [55, 60],\n",
       "                         &#x27;min_child_weight&#x27;: [45, 50], &#x27;n_estimators&#x27;: [1000]},\n",
       "             verbose=2)</pre></div></div></div><div class=\"sk-parallel\"><div class=\"sk-parallel-item\"><div class=\"sk-item\"><div class=\"sk-label-container\"><div class=\"sk-label sk-toggleable\"><input class=\"sk-toggleable__control sk-hidden--visually\" id=\"sk-estimator-id-15\" type=\"checkbox\" ><label for=\"sk-estimator-id-15\" class=\"sk-toggleable__label sk-toggleable__label-arrow\">estimator: XGBClassifier</label><div class=\"sk-toggleable__content\"><pre>XGBClassifier(base_score=None, booster=None, callbacks=None,\n",
       "              colsample_bylevel=None, colsample_bynode=None,\n",
       "              colsample_bytree=None, early_stopping_rounds=None,\n",
       "              enable_categorical=False, eval_metric=&#x27;logloss&#x27;, gamma=None,\n",
       "              gpu_id=None, grow_policy=None, importance_type=None,\n",
       "              interaction_constraints=None, learning_rate=None, max_bin=None,\n",
       "              max_cat_to_onehot=None, max_delta_step=None, max_depth=None,\n",
       "              max_leaves=None, min_child_weight=None, missing=nan,\n",
       "              monotone_constraints=None, n_estimators=100, n_jobs=None,\n",
       "              num_parallel_tree=None, predictor=None, random_state=None,\n",
       "              reg_alpha=None, reg_lambda=None, ...)</pre></div></div></div><div class=\"sk-serial\"><div class=\"sk-item\"><div class=\"sk-estimator sk-toggleable\"><input class=\"sk-toggleable__control sk-hidden--visually\" id=\"sk-estimator-id-16\" type=\"checkbox\" ><label for=\"sk-estimator-id-16\" class=\"sk-toggleable__label sk-toggleable__label-arrow\">XGBClassifier</label><div class=\"sk-toggleable__content\"><pre>XGBClassifier(base_score=None, booster=None, callbacks=None,\n",
       "              colsample_bylevel=None, colsample_bynode=None,\n",
       "              colsample_bytree=None, early_stopping_rounds=None,\n",
       "              enable_categorical=False, eval_metric=&#x27;logloss&#x27;, gamma=None,\n",
       "              gpu_id=None, grow_policy=None, importance_type=None,\n",
       "              interaction_constraints=None, learning_rate=None, max_bin=None,\n",
       "              max_cat_to_onehot=None, max_delta_step=None, max_depth=None,\n",
       "              max_leaves=None, min_child_weight=None, missing=nan,\n",
       "              monotone_constraints=None, n_estimators=100, n_jobs=None,\n",
       "              num_parallel_tree=None, predictor=None, random_state=None,\n",
       "              reg_alpha=None, reg_lambda=None, ...)</pre></div></div></div></div></div></div></div></div></div></div>"
      ],
      "text/plain": [
       "GridSearchCV(cv=3,\n",
       "             estimator=XGBClassifier(base_score=None, booster=None,\n",
       "                                     callbacks=None, colsample_bylevel=None,\n",
       "                                     colsample_bynode=None,\n",
       "                                     colsample_bytree=None,\n",
       "                                     early_stopping_rounds=None,\n",
       "                                     enable_categorical=False,\n",
       "                                     eval_metric='logloss', gamma=None,\n",
       "                                     gpu_id=None, grow_policy=None,\n",
       "                                     importance_type=None,\n",
       "                                     interaction_constraints=None,\n",
       "                                     learning_rate=None, max_bin=None,\n",
       "                                     m...\n",
       "                                     max_delta_step=None, max_depth=None,\n",
       "                                     max_leaves=None, min_child_weight=None,\n",
       "                                     missing=nan, monotone_constraints=None,\n",
       "                                     n_estimators=100, n_jobs=None,\n",
       "                                     num_parallel_tree=None, predictor=None,\n",
       "                                     random_state=None, reg_alpha=None,\n",
       "                                     reg_lambda=None, ...),\n",
       "             n_jobs=-1,\n",
       "             param_grid={'colsample_bytree': [0.8], 'max_depth': [55, 60],\n",
       "                         'min_child_weight': [45, 50], 'n_estimators': [1000]},\n",
       "             verbose=2)"
      ]
     },
     "execution_count": 231,
     "metadata": {},
     "output_type": "execute_result"
    }
   ],
   "source": [
    "grid_search = GridSearchCV(estimator=xgb_model, param_grid=param_grid, cv=3, n_jobs=-1, verbose=2)\n",
    "grid_search.fit(X_train, y_train)"
   ]
  },
  {
   "cell_type": "code",
   "execution_count": 232,
   "id": "938feb90-33c0-4c96-b7c3-477f8e634278",
   "metadata": {},
   "outputs": [
    {
     "name": "stdout",
     "output_type": "stream",
     "text": [
      "Model Performance\n",
      "Accuracy:         0.9937\n",
      "Precision:        0.9937\n",
      "Recall:           0.9937\n",
      "F1-score:         0.9937\n",
      "Mean Absolute Error: 0.0079\n",
      "Grid Search Improvement: -0.55%\n"
     ]
    }
   ],
   "source": [
    "# Evaluate best grid\n",
    "best_grid = grid_search.best_estimator_\n",
    "grid_accuracy = evaluate(best_grid, X_test, y_test)\n",
    "print('Grid Search Improvement: {:.2f}%'.format(100 * (grid_accuracy - base_accuracy) / base_accuracy))"
   ]
  },
  {
   "cell_type": "code",
   "execution_count": 233,
   "id": "2d9fdf16-9dfa-4767-8377-8b82cbc83c62",
   "metadata": {},
   "outputs": [
    {
     "name": "stdout",
     "output_type": "stream",
     "text": [
      "Model Performance\n",
      "Accuracy:         0.9937\n",
      "Precision:        0.9937\n",
      "Recall:           0.9937\n",
      "F1-score:         0.9937\n",
      "Mean Absolute Error: 0.0067\n",
      "Grid Dev Improvement: -0.43%\n"
     ]
    }
   ],
   "source": [
    "grid_accuracy_dev = evaluate(best_grid, X_dev, y_dev)\n",
    "print('Grid Dev Improvement: {:.2f}%'.format(100 * (grid_accuracy_dev - base_accuracy_dev) / base_accuracy_dev))"
   ]
  },
  {
   "cell_type": "code",
   "execution_count": 234,
   "id": "1b03118e-e923-416b-aad3-a20eac460235",
   "metadata": {},
   "outputs": [
    {
     "name": "stdout",
     "output_type": "stream",
     "text": [
      "Final model ready for production: XGBClassifier(base_score=0.5, booster='gbtree', callbacks=None,\n",
      "              colsample_bylevel=1, colsample_bynode=1, colsample_bytree=1.0,\n",
      "              early_stopping_rounds=None, enable_categorical=False,\n",
      "              eval_metric='logloss', gamma=0, gpu_id=-1,\n",
      "              grow_policy='depthwise', importance_type=None,\n",
      "              interaction_constraints='', learning_rate=0.05, max_bin=256,\n",
      "              max_cat_to_onehot=4, max_delta_step=0, max_depth=110,\n",
      "              max_leaves=0, min_child_weight=50, missing=nan,\n",
      "              monotone_constraints='()', n_estimators=400, n_jobs=0,\n",
      "              num_parallel_tree=1, objective='multi:softprob', predictor='auto',\n",
      "              random_state=0, reg_alpha=0, ...)\n"
     ]
    }
   ],
   "source": [
    "# Save best model\n",
    "final_model = xgb_random.best_estimator_\n",
    "print(\"Final model ready for production:\", final_model)"
   ]
  },
  {
   "cell_type": "code",
   "execution_count": 235,
   "id": "b339a736-6ea0-4a1a-9d72-33b71d8076aa",
   "metadata": {},
   "outputs": [
    {
     "data": {
      "image/png": "[encoded data removed]",
      "text/plain": [
       "<Figure size 640x480 with 1 Axes>"
      ]
     },
     "metadata": {},
     "output_type": "display_data"
    },
    {
     "name": "stdout",
     "output_type": "stream",
     "text": [
      "[CV] END colsample_bytree=0.8, max_depth=55, min_child_weight=45, n_estimators=1000; total time=   9.8s\n",
      "[CV] END colsample_bytree=0.8, max_depth=55, min_child_weight=50, n_estimators=1000; total time=   9.9s\n",
      "[CV] END colsample_bytree=0.8, max_depth=55, min_child_weight=50, n_estimators=1000; total time=   9.7s\n",
      "[CV] END colsample_bytree=0.8, max_depth=55, min_child_weight=50, n_estimators=1000; total time=   9.9s\n",
      "[CV] END colsample_bytree=0.8, max_depth=60, min_child_weight=45, n_estimators=1000; total time=   9.5s\n",
      "[CV] END colsample_bytree=0.8, max_depth=60, min_child_weight=45, n_estimators=1000; total time=   7.2s\n",
      "[CV] END colsample_bytree=0.8, max_depth=55, min_child_weight=45, n_estimators=1000; total time=   9.6s\n",
      "[CV] END colsample_bytree=0.8, max_depth=60, min_child_weight=50, n_estimators=1000; total time=   7.3s\n",
      "[CV] END colsample_bytree=0.8, max_depth=55, min_child_weight=45, n_estimators=1000; total time=   9.6s\n",
      "[CV] END colsample_bytree=0.8, max_depth=60, min_child_weight=50, n_estimators=1000; total time=   7.3s\n",
      "[CV] END colsample_bytree=0.8, max_depth=60, min_child_weight=45, n_estimators=1000; total time=   9.7s\n",
      "[CV] END colsample_bytree=0.8, max_depth=60, min_child_weight=50, n_estimators=1000; total time=   7.5s\n"
     ]
    }
   ],
   "source": [
    "import matplotlib.pyplot as plt\n",
    "import xgboost as xgb\n",
    "\n",
    "xgb.plot_importance(final_model, max_num_features=20)\n",
    "plt.title(\"Top 20 Feature Importances\")\n",
    "plt.show()\n"
   ]
  },
  {
   "cell_type": "code",
   "execution_count": null,
   "id": "9a488a2e-f711-4317-a668-817b903057d2",
   "metadata": {},
   "outputs": [],
   "source": []
  }
 ],
 "metadata": {
  "kernelspec": {
   "display_name": "Python 3 (ipykernel)",
   "language": "python",
   "name": "python3"
  },
  "language_info": {
   "codemirror_mode": {
    "name": "ipython",
    "version": 3
   },
   "file_extension": ".py",
   "mimetype": "text/x-python",
   "name": "python",
   "nbconvert_exporter": "python",
   "pygments_lexer": "ipython3",
   "version": "3.8.10"
  }
 },
 "nbformat": 4,
 "nbformat_minor": 5
}
